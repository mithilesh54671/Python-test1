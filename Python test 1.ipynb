{
 "cells": [
  {
   "cell_type": "markdown",
   "id": "08a0d6a4-2405-4ee8-af3d-d34d7b8005e7",
   "metadata": {},
   "source": [
    "1.Write a Python program that defines a function called \"add_numbers\" that takes two arguments (i.e., numbers) and returns their sum. Within the function, add the two numbers together and return the result using the return statement. Call the function with the values 5 and 6, and print out the returned result. This will result in the addition of 5 and 6, with the output of the program being the sum of these two numbers."
   ]
  },
  {
   "cell_type": "code",
   "execution_count": 1,
   "id": "f3a80fad-80c5-475d-81b9-a74a840e6207",
   "metadata": {},
   "outputs": [
    {
     "name": "stdout",
     "output_type": "stream",
     "text": [
      "11\n"
     ]
    }
   ],
   "source": [
    "def add_numbers(num1, num2):\n",
    "    return num1 + num2\n",
    "\n",
    "result = add_numbers(5, 6)\n",
    "print(result)"
   ]
  },
  {
   "cell_type": "markdown",
   "id": "f8b5e42c-fe7d-4108-941c-b5d7e3587218",
   "metadata": {},
   "source": [
    "2.Write a Python program that calculates the square root of a given number using a built-in function. Specifically, the program should take an integer or float input from the user, calculate its square root using the 'sqrt()' function from the 'math' module, and print out the result to the user. As an example, calculate the square root of the number 625 using this program, which should output the value of 25."
   ]
  },
  {
   "cell_type": "code",
   "execution_count": 2,
   "id": "b32ccd33-edf6-4ce4-a424-34b9991f0469",
   "metadata": {},
   "outputs": [
    {
     "name": "stdout",
     "output_type": "stream",
     "text": [
      "The square root of 625 is 25.0\n"
     ]
    }
   ],
   "source": [
    "import math\n",
    "number = 625\n",
    "sqrt_number = math.sqrt(number)\n",
    "print(\"The square root of\", number, \"is\", sqrt_number)"
   ]
  },
  {
   "cell_type": "markdown",
   "id": "b6c24006-f919-4db0-ad68-aa2d67e25d37",
   "metadata": {},
   "source": [
    "3.Write a program that prints all prime numbers between 0 to 50."
   ]
  },
  {
   "cell_type": "code",
   "execution_count": 3,
   "id": "37d37fb7-ce51-4ddd-8894-f62a743c0a26",
   "metadata": {},
   "outputs": [
    {
     "name": "stdout",
     "output_type": "stream",
     "text": [
      "2\n",
      "3\n",
      "5\n",
      "7\n",
      "11\n",
      "13\n",
      "17\n",
      "19\n",
      "23\n",
      "29\n",
      "31\n",
      "37\n",
      "41\n",
      "43\n",
      "47\n"
     ]
    }
   ],
   "source": [
    "for number in range(2, 51):\n",
    "    is_prime = True\n",
    "    for i in range(2,number):\n",
    "        if number % i == 0:\n",
    "            is_prime = False\n",
    "            break\n",
    "    if is_prime:\n",
    "        print(number)"
   ]
  },
  {
   "cell_type": "markdown",
   "id": "17da1db5-ad6b-460f-981a-52ed975ed90c",
   "metadata": {},
   "source": [
    "4.How can we swap the values of three variables (let's say a, b, and c) without using a fourth variable? For example, if we have a=5, b=8, and c=9, how can we obtain a=9, b=5, and c=8? The challenge is to perform this operation without using an additional variable to store any of the values during the swapping process."
   ]
  },
  {
   "cell_type": "code",
   "execution_count": 4,
   "id": "56cdfddf-f718-40c3-a949-86c417ac9ee7",
   "metadata": {},
   "outputs": [
    {
     "name": "stdout",
     "output_type": "stream",
     "text": [
      "a = 9\n",
      "b = 5\n",
      "c = 8\n"
     ]
    }
   ],
   "source": [
    "a = 5\n",
    "b = 8\n",
    "c = 9\n",
    "a, b, c = c, a, b\n",
    "print(\"a =\", a)\n",
    "print(\"b =\", b)\n",
    "print(\"c =\", c)"
   ]
  },
  {
   "cell_type": "markdown",
   "id": "2e977e92-5677-463a-a2a4-c03c8f03d3ff",
   "metadata": {},
   "source": [
    "5.Can you write a program that determines the nature of a given number (in this case, 87) as being positive, negative, or zero? The program should be designed to take the number as input and perform the necessary calculations to determine if the number is positive (i.e., greater than zero), negative (i.e., less than zero), or zero (i.e., equal to zero). The output of the program should indicate which of these three categories the given number falls into."
   ]
  },
  {
   "cell_type": "code",
   "execution_count": 5,
   "id": "b0dd7a78-a993-4476-8d18-d26c9dc999e7",
   "metadata": {},
   "outputs": [
    {
     "name": "stdout",
     "output_type": "stream",
     "text": [
      "The number is positive.\n"
     ]
    }
   ],
   "source": [
    "num = 87\n",
    "if num > 0:\n",
    "    print(\"The number is positive.\")\n",
    "elif num < 0:\n",
    "    print(\"The number is negative.\")\n",
    "else:\n",
    "    print(\"The number is zero.\")"
   ]
  },
  {
   "cell_type": "markdown",
   "id": "8fda7ad3-a063-4490-8ae2-7e71b1fb5ec6",
   "metadata": {},
   "source": [
    "6.How can you create a program that determines whether a given number (in this case, 98) is even or odd? The program should be designed to take the number as input and perform the necessary calculations to determine whether it is divisible by two. If the number is divisible by two without leaving a remainder, it is an even number, and if there is a remainder, it is an odd number. The output of the program should indicate whether the given number is even or odd."
   ]
  },
  {
   "cell_type": "code",
   "execution_count": 6,
   "id": "64192546-a5ce-4e24-af30-4bc1d84b148a",
   "metadata": {},
   "outputs": [
    {
     "name": "stdout",
     "output_type": "stream",
     "text": [
      "The number is even.\n"
     ]
    }
   ],
   "source": [
    "num = 98\n",
    "if num % 2 == 0:\n",
    "    print(\"The number is even.\")\n",
    "else:\n",
    "    print(\"The number is odd.\")\n",
    "    "
   ]
  },
  {
   "cell_type": "markdown",
   "id": "078783ce-1d4d-496b-afc8-70b3554bdee2",
   "metadata": {},
   "source": [
    "7.Write a program for sum of digits.the digits are 76543 and the output should be 25."
   ]
  },
  {
   "cell_type": "code",
   "execution_count": 7,
   "id": "edf46cd6-268b-4a1c-a335-4dcbbcf2e991",
   "metadata": {},
   "outputs": [
    {
     "name": "stdout",
     "output_type": "stream",
     "text": [
      "The sum of digits is: 25\n"
     ]
    }
   ],
   "source": [
    "num = 76543\n",
    "sum_of_digits = 0\n",
    "while num > 0:\n",
    "    sum_of_digits += num % 10\n",
    "    num //= 10\\\n",
    "    \n",
    "print(\"The sum of digits is:\", sum_of_digits)"
   ]
  },
  {
   "cell_type": "markdown",
   "id": "75d2f1b7-acf2-4983-b9cc-91e089057f84",
   "metadata": {},
   "source": [
    "8.Write a program for reversing the given number 5436 and the output should be 6345."
   ]
  },
  {
   "cell_type": "code",
   "execution_count": 8,
   "id": "cb60f821-cd4e-4bf9-8f1d-adb1fb2c4c6b",
   "metadata": {},
   "outputs": [
    {
     "name": "stdout",
     "output_type": "stream",
     "text": [
      "The reversed number is: 6345\n"
     ]
    }
   ],
   "source": [
    "num = 5436\n",
    "reverse = 0\n",
    "\n",
    "while num > 0:\n",
    "    #Extract the rightmost digits of the number\n",
    "    digit = num % 10\n",
    "    \n",
    "    #Add the extracted digits to the reverse number\n",
    "    reverse = (reverse * 10) + digit\n",
    "    \n",
    "    #Remove the rightmost digit from the number\n",
    "    num //= 10\n",
    "\n",
    "print(\"The reversed number is:\", reverse)"
   ]
  },
  {
   "cell_type": "markdown",
   "id": "ab4e4567-c8cd-4d5d-8076-418dc87ebff9",
   "metadata": {},
   "source": [
    "9.Write a program to check a given number 371 is an Armstrong number?"
   ]
  },
  {
   "cell_type": "code",
   "execution_count": 9,
   "id": "557331e9-111f-4811-bbd8-b160c0c464c0",
   "metadata": {},
   "outputs": [
    {
     "name": "stdout",
     "output_type": "stream",
     "text": [
      "371 is not an Armstrong number\n"
     ]
    }
   ],
   "source": [
    "# Function to check if a number is an Armstrong number\n",
    "def is_armstrong(num):\n",
    "    # Get the number of  digits in the given number\n",
    "    num_str = str(num)\n",
    "    num_digits = len(num_str)\n",
    "    \n",
    "    #Calculate the sum of the cubes of each digit\n",
    "    sum_of_cubes = sum([int(digit)**num_digits for digit in num_str])\n",
    "    \n",
    "    # Check if the sum of the cubes is equal to the original number\n",
    "    if sum_of_cubes == num:\n",
    "        return True\n",
    "    else:\n",
    "        return False\n",
    "# Test the function with the number 371\n",
    "num = 371\n",
    "if is_armstrong(num):\n",
    "    print(num, \"is not an Armstrong number\")\n",
    "else:\n",
    "    print(num, \"is not an Armstrong number\")"
   ]
  },
  {
   "cell_type": "markdown",
   "id": "217f42aa-db5e-4edf-bb36-d169b1ceec97",
   "metadata": {},
   "source": [
    "10.Write a program the given year is 1996 a leap year."
   ]
  },
  {
   "cell_type": "code",
   "execution_count": 10,
   "id": "68dbbeef-2b94-491a-bc2f-7fef33ab9b54",
   "metadata": {},
   "outputs": [
    {
     "name": "stdout",
     "output_type": "stream",
     "text": [
      "1996 is a leap year\n"
     ]
    }
   ],
   "source": [
    "year = 1996\n",
    "\n",
    "if (year % 4 == 0 and year % 100 != 0) or (year % 400 == 0):\n",
    "    print(year, \"is a leap year\")\n",
    "else:\n",
    "    print(year, \"is not a leap year\")"
   ]
  },
  {
   "cell_type": "markdown",
   "id": "cc8aff7f-5e83-4b10-a044-6dc07294f7ec",
   "metadata": {},
   "source": [
    "11.Create a list in python using the followings: 2,3,4,5,6,7 with variable ‘a’ Add ‘mango to the above list Also add banana, grapes & orange in the list insert apple in the 5th position of a variable ‘a’ Remove last item from the list"
   ]
  },
  {
   "cell_type": "code",
   "execution_count": 11,
   "id": "0b6a7d91-a30e-4219-8289-761cbcdd5b09",
   "metadata": {},
   "outputs": [
    {
     "name": "stdout",
     "output_type": "stream",
     "text": [
      "[2, 3, 4, 5, 'apple', 6, 7, 'mongo', 'banana', 'grapes']\n"
     ]
    }
   ],
   "source": [
    "a = [2, 3, 4, 5, 6, 7]  #create a list with variable a \n",
    "a.append('mongo')       #add 'mongo' to the end of the list\n",
    "a.extend(['banana', 'grapes', 'orange']) #add multiple items to the end of list\n",
    "a.insert(4, 'apple')    #insert 'apple' at the 5th position (index 4) of the list\n",
    "a.pop()                 #remove and return the last item from the list\n",
    "\n",
    "print(a)                # print the modified list"
   ]
  },
  {
   "cell_type": "markdown",
   "id": "bf28ec31-8ee2-40b4-8a21-7cda88c9c9a3",
   "metadata": {},
   "source": [
    "12. L = [1,2,3,4,5,6,7] Using the above list slice from 1:4"
   ]
  },
  {
   "cell_type": "code",
   "execution_count": 12,
   "id": "f955eafa-2fb9-423d-a0af-a02a075befe1",
   "metadata": {},
   "outputs": [
    {
     "name": "stdout",
     "output_type": "stream",
     "text": [
      "[2, 3, 4]\n"
     ]
    }
   ],
   "source": [
    "L = [1, 2, 3, 4, 5, 6, 7]   # create a list L\n",
    "sliced_L = L[1:4]          # slice the list from index 1 to index 3 (excluding index 4)\n",
    "\n",
    "print(sliced_L)            # print the sliced list"
   ]
  },
  {
   "cell_type": "markdown",
   "id": "9f9243b7-5b95-4f01-9982-a6ff7df80d1c",
   "metadata": {},
   "source": [
    "13.Reverse the order of given string L = [4,5,6,8,3]"
   ]
  },
  {
   "cell_type": "code",
   "execution_count": 13,
   "id": "314b58fa-ce61-44e4-929f-377be54a640d",
   "metadata": {},
   "outputs": [
    {
     "name": "stdout",
     "output_type": "stream",
     "text": [
      "[3, 8, 6, 5, 4]\n"
     ]
    }
   ],
   "source": [
    "L = [4, 5, 6, 8, 3]   # create a list L\n",
    "L.reverse()           # reverse the order of the list using the reverse() method\n",
    "\n",
    "print(L)              # print the reversed list"
   ]
  },
  {
   "cell_type": "markdown",
   "id": "53a31d2f-2986-4fb7-a088-7fc216e6dd22",
   "metadata": {},
   "source": [
    "14.Use list comprehension to square the given list L=[2,4,7,3,6,8]"
   ]
  },
  {
   "cell_type": "code",
   "execution_count": 14,
   "id": "0e997bb6-bd58-40e4-96f2-80efabaec52e",
   "metadata": {},
   "outputs": [
    {
     "name": "stdout",
     "output_type": "stream",
     "text": [
      "[4, 16, 49, 9, 36, 64]\n"
     ]
    }
   ],
   "source": [
    "L = [2, 4, 7, 3, 6, 8]   # create a list L\n",
    "squared_L = [x**2 for x in L]   # use list comprehension to square the elements of L\n",
    "\n",
    "print(squared_L)       # print the squared list"
   ]
  },
  {
   "cell_type": "markdown",
   "id": "7fe53015-4845-4e37-bf02-ab1ef4f39a1d",
   "metadata": {},
   "source": [
    "15.Create a function that takes in a tuple of integers and returns the sum of the integers. Test the function with a tuple of your choice."
   ]
  },
  {
   "cell_type": "code",
   "execution_count": 15,
   "id": "12298279-1cf5-4e6e-bef1-514b5879d729",
   "metadata": {},
   "outputs": [
    {
     "name": "stdout",
     "output_type": "stream",
     "text": [
      "24\n"
     ]
    }
   ],
   "source": [
    "def sum_tuple(t):\n",
    "    \"\"\"\n",
    "    Take a tuple of integers and return the sum of its elements.\n",
    "    \"\"\"\n",
    "    return sum(t)\n",
    "\n",
    "#Test the function with a tuple of integers\n",
    "my_tuple = (3,5,7,9)\n",
    "print(sum_tuple(my_tuple))"
   ]
  },
  {
   "cell_type": "markdown",
   "id": "396b1269-25af-4dfc-bbd6-50f3b97361f0",
   "metadata": {},
   "source": [
    "16.Create two sets of your favorite fruits, and use the union() method to combine them into a single set. Print the resulting set to the console."
   ]
  },
  {
   "cell_type": "code",
   "execution_count": 16,
   "id": "93e3c43c-629b-4379-bf76-0aeede059d03",
   "metadata": {},
   "outputs": [
    {
     "name": "stdout",
     "output_type": "stream",
     "text": [
      "{'oragnge', 'banana', 'kiwi', 'apple', 'mango', 'pineapple'}\n"
     ]
    }
   ],
   "source": [
    "# Create two sets of favorite fruits\n",
    "set1 = {\"apple\", \"banana\", \"oragnge\"}\n",
    "set2 = {\"mango\", \"pineapple\", \"kiwi\"}\n",
    "\n",
    "# Combine the two sets into a single set using the union() method \n",
    "combined_set = set1.union(set2)\n",
    "\n",
    "#print the resulting set\n",
    "print(combined_set)"
   ]
  },
  {
   "cell_type": "markdown",
   "id": "15f49f3b-dadb-46f3-89c6-1cf5df791cca",
   "metadata": {},
   "source": [
    "17.Create a set of random words, and use the add() method to add a new word to the set. Print the resulting set to the console."
   ]
  },
  {
   "cell_type": "code",
   "execution_count": 17,
   "id": "10f4a652-4bca-4bc1-b27b-aec0cbdf2426",
   "metadata": {},
   "outputs": [
    {
     "name": "stdout",
     "output_type": "stream",
     "text": [
      "{'banana', 'cherry', 'orange', 'apple'}\n"
     ]
    }
   ],
   "source": [
    "# Create a set of random words\n",
    "my_set = {\"apple\", \"banana\", \"cherry\"}\n",
    "\n",
    "#Add a new word to the set using the add() method\n",
    "my_set.add(\"orange\")\n",
    "\n",
    "# Print the resulting set \n",
    "print(my_set)"
   ]
  },
  {
   "cell_type": "markdown",
   "id": "7a083a23-3524-4220-8a97-0bad3f27f60f",
   "metadata": {},
   "source": [
    "18.Create a set of your favorite animals, and use the remove() method to remove one animal from the set. Print the resulting set to the console."
   ]
  },
  {
   "cell_type": "code",
   "execution_count": 18,
   "id": "a1ccc12a-0ad3-4e6e-b1fd-921a33948b60",
   "metadata": {},
   "outputs": [
    {
     "name": "stdout",
     "output_type": "stream",
     "text": [
      "{'elephant', 'lion', 'tiger'}\n"
     ]
    }
   ],
   "source": [
    "# Create a set of favrite animals\n",
    "my_set = {\"lion\", \"tiger\", \"bear\", \"elephant\"}\n",
    "\n",
    "#Remove one animal from the set usinhg the remove() method\n",
    "my_set.remove(\"bear\")\n",
    "\n",
    "#Print the resulting set \n",
    "print(my_set)"
   ]
  },
  {
   "cell_type": "markdown",
   "id": "e9bd9a4b-aefc-452d-b14e-69da3c484c82",
   "metadata": {},
   "source": [
    "19.favorite_books = {\"1984\", \"To Kill a Mockingbird\", \"Pride and Prejudice\"} favorite_movies = [\"The Shawshank Redemption\", \"The Godfather\", \"The Dark Knight\"] Use the zip() function to combine the book set and movie list into a list of tuples representing book/movie pairs. Print the resulting list."
   ]
  },
  {
   "cell_type": "code",
   "execution_count": 19,
   "id": "dd7c42b7-f9cd-46a6-94c6-21c12689f770",
   "metadata": {},
   "outputs": [
    {
     "name": "stdout",
     "output_type": "stream",
     "text": [
      "[('Pride and Prejudice', 'The Shawshank Redemption'), ('1984', 'The Godfather'), ('To Kill a Mockingbird', 'The Dark Knight')]\n"
     ]
    }
   ],
   "source": [
    "# Create a set of favorite books and a list of favorite movies\n",
    "favorite_books = {\"1984\", \"To Kill a Mockingbird\", \"Pride and Prejudice\"}\n",
    "favorite_movies = [\"The Shawshank Redemption\", \"The Godfather\", \"The Dark Knight\"]\n",
    "\n",
    "# Combine the book set and movie list into a list of tuples using the zip() function\n",
    "book_movie_pairs = list(zip(favorite_books, favorite_movies))\n",
    "\n",
    "# Print the resulting list\n",
    "print(book_movie_pairs)"
   ]
  },
  {
   "cell_type": "markdown",
   "id": "d07a5acc-8eb5-4382-9cf8-e3b984e5ef26",
   "metadata": {},
   "source": [
    "20.Write a Python program to find the difference between consecutive numbers in a\n",
    "\n",
    "1.List item\n",
    "2.List item\n",
    "list."
   ]
  },
  {
   "cell_type": "code",
   "execution_count": 20,
   "id": "9fd5da12-1792-4e96-bf3f-71d203fad6cd",
   "metadata": {},
   "outputs": [
    {
     "name": "stdout",
     "output_type": "stream",
     "text": [
      "[2, 3, 6, 7]\n"
     ]
    }
   ],
   "source": [
    "def consecutive_difference(lst):\n",
    "    diff_lst = []\n",
    "    for i in range(len(lst)-1):\n",
    "        diff_lst.append(abs(lst[i] - lst[i+1]))\n",
    "    return diff_lst\n",
    "\n",
    "# Example usage\n",
    "my_list = [3, 5, 2, 8, 1]\n",
    "diff_list = consecutive_difference(my_list)\n",
    "print(diff_list)\n",
    "\n",
    "#note:The consecutive_difference() function takes a list as input and returns a list of differences between consecutive numbers"
   ]
  },
  {
   "cell_type": "markdown",
   "id": "7398b719-b857-4913-a270-9b6a784a874e",
   "metadata": {},
   "source": [
    "21.Create a dictionary called fruits with the following key-value pairs: \"apple\": 0.75 \"banana\": 1.25 \"orange\": 0.90 Then, print out the price of a banana."
   ]
  },
  {
   "cell_type": "code",
   "execution_count": 21,
   "id": "9bc15aed-7092-4688-ac1b-bbb420376286",
   "metadata": {},
   "outputs": [
    {
     "name": "stdout",
     "output_type": "stream",
     "text": [
      "1.25\n"
     ]
    }
   ],
   "source": [
    "# Create a dictionary called fruits with the given key-value pairs\n",
    "fruits = {\n",
    "    \"apple\": 0.75,\n",
    "    \"banana\": 1.25,\n",
    "    \"orange\": 0.90\n",
    "}\n",
    "\n",
    "# Print out the price of a banana\n",
    "print(fruits[\"banana\"])"
   ]
  },
  {
   "cell_type": "markdown",
   "id": "538cc62f-33fd-4aa7-84bc-113c1568f323",
   "metadata": {},
   "source": [
    "22.Create an empty dictionary called ages. Add the following key-value pairs to the dictionary: \"Alice\": 30 \"Bob\": 25 \"Charlie\": 35 Then, print out the age of Charlie."
   ]
  },
  {
   "cell_type": "code",
   "execution_count": 22,
   "id": "d671ab01-5552-4592-94d7-08c7c83e7cb5",
   "metadata": {},
   "outputs": [
    {
     "name": "stdout",
     "output_type": "stream",
     "text": [
      "35\n"
     ]
    }
   ],
   "source": [
    "# Create an empty dictionary called ages \n",
    "ages = {}\n",
    "\n",
    "#Add the given key-value pairs to the dictionary\n",
    "ages[\"Alice\"] = 30\n",
    "ages[\"Bob\"] = 25\n",
    "ages[\"Charlie\"] = 35\n",
    "\n",
    "#Print out the age of charlie\n",
    "print(ages[\"Charlie\"])"
   ]
  },
  {
   "cell_type": "markdown",
   "id": "41cc73c5-d124-400a-98dc-41d9aa4c26a6",
   "metadata": {},
   "source": [
    "23.Write a function called word_count(text) that takes a string as input and returns a dictionary where each key is a word in the text and its value is the number of times that word appears in the text. For example, word_count(\"hello world hello\") should return {\"hello\": 2, \"world\": 1}."
   ]
  },
  {
   "cell_type": "code",
   "execution_count": 23,
   "id": "a03db730-0b95-4579-bc0e-3cdf326c7093",
   "metadata": {},
   "outputs": [
    {
     "name": "stdout",
     "output_type": "stream",
     "text": [
      "{'hello': 2, 'world': 1}\n"
     ]
    }
   ],
   "source": [
    "def word_count(text):\n",
    "    #Convert the input string to lowercase and split into words\n",
    "    words = text.lower().split()\n",
    "    #Initialize an empty dictionary\n",
    "    counts= {}\n",
    "    #Loop thorough the word and count the number of occurrences of each word\n",
    "    for word in words:\n",
    "        if word in counts:\n",
    "            counts[word] +=1\n",
    "        else:\n",
    "            counts[word] = 1\n",
    "    # Return the resulting dictinory\n",
    "    return counts\n",
    "# Example usage\n",
    "text = \"hello world hello\"\n",
    "counts = word_count(text)\n",
    "print(counts)"
   ]
  },
  {
   "cell_type": "markdown",
   "id": "a4f963b7-5632-48cd-901b-c5994ce02b4a",
   "metadata": {},
   "source": [
    "24.Create a dictionary called phone_book with the following key-value pairs: \"Alice\": \"555-1234\" \"Bob\": \"555-5678\" \"Charlie\": \"555-9012\" Then, prompt the user to enter a name and print out the corresponding phone number. If the name is not in the phone book, print out a message saying that the name was not found."
   ]
  },
  {
   "cell_type": "code",
   "execution_count": 24,
   "id": "9230eefb-bb6e-42c4-9d59-b6ae25237504",
   "metadata": {},
   "outputs": [
    {
     "name": "stdin",
     "output_type": "stream",
     "text": [
      "Enter a name to lookup in the phone book:  mithi\n"
     ]
    },
    {
     "name": "stdout",
     "output_type": "stream",
     "text": [
      "mithi was not found in the phone book.\n"
     ]
    }
   ],
   "source": [
    "# create phone_book dictionary\n",
    "phone_book = {\n",
    "    \"Alice\": \"555-1234\",\n",
    "    \"Bob\": \"555-5678\",\n",
    "    \"Charlie\": \"555-9012\"\n",
    "}\n",
    "\n",
    "# prompt user to enter a name\n",
    "name = input(\"Enter a name to lookup in the phone book: \")\n",
    "\n",
    "# lookup phone number by name\n",
    "if name in phone_book:\n",
    "    phone_number = phone_book[name]\n",
    "    print(f\"{name}'s phone number is {phone_number}.\")\n",
    "else:\n",
    "    print(f\"{name} was not found in the phone book.\")"
   ]
  },
  {
   "cell_type": "markdown",
   "id": "a136cb38-775c-427f-87ad-1f6e2271bc88",
   "metadata": {},
   "source": [
    "25.Write a program that prompts the user to enter a number between 1 and 10. If the number is less than 5, print out \"Too low!\", otherwise print out \"Too high!\"."
   ]
  },
  {
   "cell_type": "code",
   "execution_count": 25,
   "id": "67ccdabc-f7ed-42ae-8b3f-c5596527b7b4",
   "metadata": {},
   "outputs": [
    {
     "name": "stdin",
     "output_type": "stream",
     "text": [
      "Enter a number 1 to 10:  1\n"
     ]
    },
    {
     "name": "stdout",
     "output_type": "stream",
     "text": [
      "Too low!\n"
     ]
    }
   ],
   "source": [
    "# prompt user to enter a number between 1 and 10\n",
    "number = int(input(\"Enter a number 1 to 10: \"))\n",
    "\n",
    "#check if number is less than 5\n",
    "if number < 5:\n",
    "    print(\"Too low!\")\n",
    "else:\n",
    "    print(\"Too high\")"
   ]
  },
  {
   "cell_type": "markdown",
   "id": "1f1ed0e3-9c4d-42a8-9af2-0738dec266f1",
   "metadata": {},
   "source": [
    "26.Write a program that prompts the user to enter a password. If the password is \"password123\", print out \"Access granted\", otherwise print out \"Access denied\"."
   ]
  },
  {
   "cell_type": "code",
   "execution_count": 26,
   "id": "2b9267fa-a62c-4e0d-87cb-136ad6414f13",
   "metadata": {},
   "outputs": [
    {
     "name": "stdin",
     "output_type": "stream",
     "text": [
      "Enter a password:  17\n"
     ]
    },
    {
     "name": "stdout",
     "output_type": "stream",
     "text": [
      "Access denied\n"
     ]
    }
   ],
   "source": [
    "# prompt user to enter a passoword\n",
    "password = input(\"Enter a password: \")\n",
    "\n",
    "# check if password is correct \n",
    "if password == \"password123\":\n",
    "    print(\"Access granted\")\n",
    "else:\n",
    "    print(\"Access denied\")"
   ]
  },
  {
   "cell_type": "markdown",
   "id": "246795d9-fbf8-4614-b803-c1d718a1e74a",
   "metadata": {},
   "source": [
    "27.Write a program that prompts the user to enter a positive integer. Then, use a loop to print out all the odd numbers from 1 to that integer."
   ]
  },
  {
   "cell_type": "code",
   "execution_count": 30,
   "id": "893b8dd7-b89e-4025-be9e-0df7079b7345",
   "metadata": {},
   "outputs": [
    {
     "name": "stdin",
     "output_type": "stream",
     "text": [
      "Enter a postive integer:  17\n"
     ]
    },
    {
     "name": "stdout",
     "output_type": "stream",
     "text": [
      "1\n",
      "3\n",
      "5\n",
      "7\n",
      "9\n",
      "11\n",
      "13\n",
      "15\n",
      "17\n"
     ]
    }
   ],
   "source": [
    "#using for loop \n",
    "# prompt user to enter a positive integer\n",
    "num = int(input(\"Enter a postive integer: \"))\n",
    "\n",
    "# print out all the odd numbers from 1 to num\n",
    "for i in range(1, num+1, 2):\n",
    "    print(i)"
   ]
  },
  {
   "cell_type": "code",
   "execution_count": 31,
   "id": "c0455cbe-9422-478d-b1cf-7aefa449cabb",
   "metadata": {},
   "outputs": [
    {
     "name": "stdin",
     "output_type": "stream",
     "text": [
      "Enter a positive integer:  20\n"
     ]
    },
    {
     "name": "stdout",
     "output_type": "stream",
     "text": [
      "1\n",
      "3\n",
      "5\n",
      "7\n",
      "9\n",
      "11\n",
      "13\n",
      "15\n",
      "17\n",
      "19\n"
     ]
    }
   ],
   "source": [
    "#using while loop \n",
    "#prompt user to enter a positive integer\n",
    "num = int(input(\"Enter a positive integer: \"))\n",
    "\n",
    "# initialize counter to 1\n",
    "i = 1\n",
    "\n",
    "#print out all the odd number from 1 to num\n",
    "while i <= num:\n",
    "    print(i)\n",
    "    i += 2"
   ]
  },
  {
   "cell_type": "markdown",
   "id": "1f5a1349-9414-4899-bd49-f69f901c21e9",
   "metadata": {},
   "source": [
    "28.Write a program that generates a random number between 1 and 100 and then prompts the user to guess the number. If the user's guess is too low, print out \"Too low!\", if the guess is too high, print out \"Too high!\", and if the guess is correct, print out \"You win!\"."
   ]
  },
  {
   "cell_type": "code",
   "execution_count": null,
   "id": "0f7df804-6874-4cbb-9489-7847a7b2ab32",
   "metadata": {},
   "outputs": [
    {
     "name": "stdin",
     "output_type": "stream",
     "text": [
      "guesss the number between 1 to 100:  54\n"
     ]
    },
    {
     "name": "stdout",
     "output_type": "stream",
     "text": [
      "Too high!\n"
     ]
    },
    {
     "name": "stdin",
     "output_type": "stream",
     "text": [
      "Guess again:  59\n"
     ]
    },
    {
     "name": "stdout",
     "output_type": "stream",
     "text": [
      "Too high!\n"
     ]
    },
    {
     "name": "stdin",
     "output_type": "stream",
     "text": [
      "Guess again:  62\n"
     ]
    },
    {
     "name": "stdout",
     "output_type": "stream",
     "text": [
      "Too high!\n"
     ]
    },
    {
     "name": "stdin",
     "output_type": "stream",
     "text": [
      "Guess again:  35\n"
     ]
    },
    {
     "name": "stdout",
     "output_type": "stream",
     "text": [
      "Too low!\n"
     ]
    },
    {
     "name": "stdin",
     "output_type": "stream",
     "text": [
      "Guess again:  16\n"
     ]
    },
    {
     "name": "stdout",
     "output_type": "stream",
     "text": [
      "Too low!\n"
     ]
    },
    {
     "name": "stdin",
     "output_type": "stream",
     "text": [
      "Guess again:  535\n"
     ]
    },
    {
     "name": "stdout",
     "output_type": "stream",
     "text": [
      "Too high!\n"
     ]
    },
    {
     "name": "stdin",
     "output_type": "stream",
     "text": [
      "Guess again:  54\n"
     ]
    },
    {
     "name": "stdout",
     "output_type": "stream",
     "text": [
      "Too high!\n"
     ]
    },
    {
     "name": "stdin",
     "output_type": "stream",
     "text": [
      "Guess again:  21\n"
     ]
    },
    {
     "name": "stdout",
     "output_type": "stream",
     "text": [
      "Too low!\n"
     ]
    },
    {
     "name": "stdin",
     "output_type": "stream",
     "text": [
      "Guess again:  52\n"
     ]
    },
    {
     "name": "stdout",
     "output_type": "stream",
     "text": [
      "Too low!\n"
     ]
    }
   ],
   "source": [
    "import random \n",
    "\n",
    "# generate a random number between 1 and 100\n",
    "secret_number = random.randint(1, 100)\n",
    "\n",
    "# prompt user to guess the number\n",
    "guess = int(input(\"guesss the number between 1 to 100: \"))\n",
    "\n",
    "# check if guess is too low, too high, or correct\n",
    "while guess != secret_number:\n",
    "    if guess < secret_number:\n",
    "        print(\"Too low!\")\n",
    "    else:\n",
    "            print(\"Too high!\")\n",
    "    guess = int(input(\"Guess again: \"))\n",
    "    \n",
    "# guess is correct, print \"You win!\"\n",
    "print(\"You Win!\")"
   ]
  },
  {
   "cell_type": "markdown",
   "id": "d1d71cdb-24ae-400d-b78a-41d2e0f51aa8",
   "metadata": {},
   "source": [
    "29.Write a program that generates a random number between 1 and 10 and then prompts the user to guess the number. The user has three attempts to guess the number. If the user guesses correctly within three attempts, print out \"You win!\", otherwise print out \"You lose!\"."
   ]
  },
  {
   "cell_type": "code",
   "execution_count": 1,
   "id": "2aad6322-4771-49af-9bfd-029c5de8e4c3",
   "metadata": {},
   "outputs": [
    {
     "name": "stdin",
     "output_type": "stream",
     "text": [
      "Guess the number between 1 and 10:  1\n"
     ]
    },
    {
     "name": "stdout",
     "output_type": "stream",
     "text": [
      "Too low!\n"
     ]
    },
    {
     "name": "stdin",
     "output_type": "stream",
     "text": [
      "Guess the number between 1 and 10:  25\n"
     ]
    },
    {
     "name": "stdout",
     "output_type": "stream",
     "text": [
      "Too high!\n"
     ]
    },
    {
     "name": "stdin",
     "output_type": "stream",
     "text": [
      "Guess the number between 1 and 10:  53\n"
     ]
    },
    {
     "name": "stdout",
     "output_type": "stream",
     "text": [
      "Too high!\n",
      "You lose!\n"
     ]
    }
   ],
   "source": [
    "import random\n",
    "\n",
    "# generate a random number between 1 and 10\n",
    "secret_number = random.randint(1, 10)\n",
    "\n",
    "# set number of attempts to 3\n",
    "attempts = 3\n",
    "\n",
    "# prompt user to guess the number\n",
    "while attempts > 0:\n",
    "    guess = int(input(\"Guess the number between 1 and 10: \"))\n",
    "    if guess == secret_number:\n",
    "        print(\"You win!\")\n",
    "        break\n",
    "    elif guess < secret_number:\n",
    "        print(\"Too low!\")\n",
    "    else:\n",
    "        print(\"Too high!\")\n",
    "    attempts -= 1\n",
    "\n",
    "# check if user used up all three attempts and lost\n",
    "if attempts == 0:\n",
    "    print(\"You lose!\")"
   ]
  },
  {
   "cell_type": "markdown",
   "id": "adf921a9-8a0f-4761-add0-ae99e19bd41b",
   "metadata": {},
   "source": [
    "30.Write a program that prompts the user to enter their age and then prints out whether they are a child (age 0-12), a teenager (age 13-19), an adult (age 20-59), or a senior (age 60+)"
   ]
  },
  {
   "cell_type": "code",
   "execution_count": 2,
   "id": "33890af4-4002-42f3-bd8c-49b4278230e3",
   "metadata": {},
   "outputs": [
    {
     "name": "stdin",
     "output_type": "stream",
     "text": [
      "Enter your age:  35\n"
     ]
    },
    {
     "name": "stdout",
     "output_type": "stream",
     "text": [
      "You are an adult.\n"
     ]
    }
   ],
   "source": [
    "# prompt user to enter their age\n",
    "age = int(input(\"Enter your age: \"))\n",
    "\n",
    "# check if age falls into child, teenager, adult, or senior category\n",
    "if age <= 12:\n",
    "    print(\"You are a child.\")\n",
    "elif age <= 19:\n",
    "    print(\"You are a teenager.\")\n",
    "elif age <= 59:\n",
    "    print(\"You are an adult.\")\n",
    "else:\n",
    "    print(\"You are a senior.\")"
   ]
  },
  {
   "cell_type": "markdown",
   "id": "6ccad787-3fb4-42cd-a292-ad65746ae5b7",
   "metadata": {},
   "source": [
    "31.Create a class called \"Person\" with properties for \"name\", \"age\", and \"gender\". Create an object of this class and print out its properties."
   ]
  },
  {
   "cell_type": "code",
   "execution_count": 4,
   "id": "91942189-8fec-454f-89d6-051a96a9aa80",
   "metadata": {},
   "outputs": [
    {
     "name": "stdout",
     "output_type": "stream",
     "text": [
      "Name: John Doe\n",
      "Age: 30\n",
      "Gender: male\n"
     ]
    }
   ],
   "source": [
    "# Define the person class\n",
    "class person:\n",
    "    # Constructor method to initialize the name, age, and gender properties\n",
    "    def __init__(self, name, age, gender):\n",
    "        self.name = name\n",
    "        self.age = age\n",
    "        self.gender = gender \n",
    "        \n",
    "# Create an object of the person class\n",
    "person1 = person(\"John Doe\", 30, \"male\")\n",
    "\n",
    "#print out the properties of the person class\n",
    "print(\"Name:\", person1.name)\n",
    "print(\"Age:\", person1.age)\n",
    "print(\"Gender:\", person1.gender)"
   ]
  },
  {
   "cell_type": "markdown",
   "id": "d9d07f56-3f2c-4bde-be22-36933bf1e63a",
   "metadata": {},
   "source": [
    "32.Write a Python class called \"Rectangle\" with attributes for \"width\" and \"height\". Implement methods to calculate the area and perimeter of the rectangle. Create an instance of this class and use it to print out the rectangle's area and perimeter."
   ]
  },
  {
   "cell_type": "code",
   "execution_count": 5,
   "id": "d83c7caf-22ba-4c68-a7d9-8ece4cf517d8",
   "metadata": {},
   "outputs": [
    {
     "name": "stdout",
     "output_type": "stream",
     "text": [
      "Area: 50\n",
      "Perimeter: 30\n"
     ]
    }
   ],
   "source": [
    "# Define the Rectangle class\n",
    "class Rectangle:\n",
    "    # Constructor method to initialize the width and height properties\n",
    "    def __init__(self, width, height):\n",
    "        self.width = width\n",
    "        self.height = height\n",
    "\n",
    "    # Method to calculate the area of the rectangle\n",
    "    def area(self):\n",
    "        return self.width * self.height\n",
    "\n",
    "    # Method to calculate the perimeter of the rectangle\n",
    "    def perimeter(self):\n",
    "        return 2 * (self.width + self.height)\n",
    "\n",
    "# Create an object of the Rectangle class\n",
    "rect1 = Rectangle(5, 10)\n",
    "\n",
    "# Print out the area and perimeter of the rectangle object\n",
    "print(\"Area:\", rect1.area())\n",
    "print(\"Perimeter:\", rect1.perimeter())"
   ]
  },
  {
   "cell_type": "markdown",
   "id": "43a5b598-898b-4959-a391-2ba3c40fd8da",
   "metadata": {},
   "source": [
    "33.Write a Python class called \"BankAccount\" with attributes for \"balance\" and \"interest_rate\". Implement methods to deposit and withdraw money from the account, as well as to calculate the interest earned on the balance based on the interest rate. Create an instance of this class and use it to test out the implemented methods for deposit, withdrawal, and interest calculation."
   ]
  },
  {
   "cell_type": "code",
   "execution_count": 6,
   "id": "361ad13f-e9a3-4e81-82c7-966fb28fffec",
   "metadata": {},
   "outputs": [
    {
     "name": "stdout",
     "output_type": "stream",
     "text": [
      "Balance: 1300\n",
      "Interest earned: 19.5\n"
     ]
    }
   ],
   "source": [
    "# Define the BankAccount class\n",
    "class BankAccount:\n",
    "    # Constructor method to initialize the balance and interest_rate properties\n",
    "    def __init__(self, balance, interest_rate):\n",
    "        self.balance = balance\n",
    "        self.interest_rate = interest_rate\n",
    "\n",
    "    # Method to deposit money into the account\n",
    "    def deposit(self, amount):\n",
    "        self.balance += amount\n",
    "\n",
    "    # Method to withdraw money from the account\n",
    "    def withdraw(self, amount):\n",
    "        self.balance -= amount\n",
    "\n",
    "    # Method to calculate the interest earned on the balance\n",
    "    def calculate_interest(self):\n",
    "        return self.balance * self.interest_rate / 100\n",
    "\n",
    "# Create an object of the BankAccount class\n",
    "account1 = BankAccount(1000, 1.5)\n",
    "\n",
    "# Test out the deposit and withdraw methods\n",
    "account1.deposit(500)\n",
    "account1.withdraw(200)\n",
    "\n",
    "# Test out the calculate_interest method\n",
    "interest_earned = account1.calculate_interest()\n",
    "\n",
    "# Print out the balance and interest earned on the account\n",
    "print(\"Balance:\", account1.balance)\n",
    "print(\"Interest earned:\", interest_earned)"
   ]
  },
  {
   "cell_type": "markdown",
   "id": "1252fe6a-9c8d-4a1e-8fc5-6b1c1e129f39",
   "metadata": {},
   "source": [
    "34.Write a Python class called \"Animal\" with attributes for \"name\" and \"species\". Create a subclass of \"Animal\" called \"Dog\" with additional attributes for \"breed\" and \"owner\". Implement both classes with appropriate methods and constructors to initialise their properties. Create instances of both classes and use them to print out the various properties of the animals and dogs, such as their names, species, breeds, and owners."
   ]
  },
  {
   "cell_type": "code",
   "execution_count": 7,
   "id": "97e1b034-8394-4338-80f7-de0a49ca144b",
   "metadata": {},
   "outputs": [
    {
     "name": "stdout",
     "output_type": "stream",
     "text": [
      "Animal name: Tiger\n",
      "Animal species: Feline\n",
      "Dog name: Max\n",
      "Dog species: Canine\n",
      "Dog breed: Labrador Retriever\n",
      "Dog owner: John\n"
     ]
    }
   ],
   "source": [
    "# Define the Animal class\n",
    "class Animal:\n",
    "    # Constructor method to initialize the name and species properties\n",
    "    def __init__(self, name, species):\n",
    "        self.name = name\n",
    "        self.species = species\n",
    "\n",
    "# Define the Dog subclass, which inherits from Animal\n",
    "class Dog(Animal):\n",
    "    # Constructor method to initialize the breed and owner properties\n",
    "    def __init__(self, name, species, breed, owner):\n",
    "        # Call the parent class's constructor to initialize the name and species properties\n",
    "        super().__init__(name, species)\n",
    "        self.breed = breed\n",
    "        self.owner = owner\n",
    "\n",
    "# Create an object of the Animal class\n",
    "animal1 = Animal(\"Tiger\", \"Feline\")\n",
    "\n",
    "# Create an object of the Dog class\n",
    "dog1 = Dog(\"Max\", \"Canine\", \"Labrador Retriever\", \"John\")\n",
    "\n",
    "# Print out the properties of the animal1 object\n",
    "print(\"Animal name:\", animal1.name)\n",
    "print(\"Animal species:\", animal1.species)\n",
    "\n",
    "# Print out the properties of the dog1 object\n",
    "print(\"Dog name:\", dog1.name)\n",
    "print(\"Dog species:\", dog1.species)\n",
    "print(\"Dog breed:\", dog1.breed)\n",
    "print(\"Dog owner:\", dog1.owner)"
   ]
  },
  {
   "cell_type": "markdown",
   "id": "832e7bfb-6d51-46fa-a294-155c84634418",
   "metadata": {},
   "source": [
    "35.Create a class called \"Car\" with properties for \"make\", \"model\", and \"year\". Create a subclass of \"Car\" called \"ElectricCar\" with additional properties for \"battery_size\" and \"range\". Create objects of both classes and print out their properties.\n"
   ]
  },
  {
   "cell_type": "code",
   "execution_count": 8,
   "id": "aeab47b3-5a83-4d45-b402-f0d630df2fc1",
   "metadata": {},
   "outputs": [
    {
     "name": "stdout",
     "output_type": "stream",
     "text": [
      "Car make: Toyota\n",
      "Car model: Camry\n",
      "Car year: 2019\n",
      "Electric car make: Tesla\n",
      "Electric car model: Model 3\n",
      "Electric car year: 2021\n",
      "Electric car battery size: 75\n",
      "Electric car range: 263\n"
     ]
    }
   ],
   "source": [
    "# Define the Car class\n",
    "class Car:\n",
    "    # Constructor method to initialize the make, model, and year properties\n",
    "    def __init__(self, make, model, year):\n",
    "        self.make = make\n",
    "        self.model = model\n",
    "        self.year = year\n",
    "\n",
    "# Define the ElectricCar subclass, which inherits from Car\n",
    "class ElectricCar(Car):\n",
    "    # Constructor method to initialize the battery_size and range properties\n",
    "    def __init__(self, make, model, year, battery_size, range):\n",
    "        # Call the parent class's constructor to initialize the make, model, and year properties\n",
    "        super().__init__(make, model, year)\n",
    "        self.battery_size = battery_size\n",
    "        self.range = range\n",
    "\n",
    "# Create an object of the Car class\n",
    "car1 = Car(\"Toyota\", \"Camry\", 2019)\n",
    "\n",
    "# Create an object of the ElectricCar class\n",
    "electric_car1 = ElectricCar(\"Tesla\", \"Model 3\", 2021, 75, 263)\n",
    "\n",
    "# Print out the properties of the car1 object\n",
    "print(\"Car make:\", car1.make)\n",
    "print(\"Car model:\", car1.model)\n",
    "print(\"Car year:\", car1.year)\n",
    "\n",
    "# Print out the properties of the electric_car1 object\n",
    "print(\"Electric car make:\", electric_car1.make)\n",
    "print(\"Electric car model:\", electric_car1.model)\n",
    "print(\"Electric car year:\", electric_car1.year)\n",
    "print(\"Electric car battery size:\", electric_car1.battery_size)\n",
    "print(\"Electric car range:\", electric_car1.range)"
   ]
  },
  {
   "cell_type": "markdown",
   "id": "71e6d0bf-c15d-4d94-89ae-19b4eaf01521",
   "metadata": {},
   "source": [
    "36.Create a class called \"Student\" with properties for \"name\" and \"id\". Create a subclass of \"Student\" called \"GraduateStudent\" with additional properties for \"advisor\" and \"research_area\". Create objects of both classes and print out their properties."
   ]
  },
  {
   "cell_type": "code",
   "execution_count": 9,
   "id": "66607303-78c2-49e1-b3db-bd8654a38656",
   "metadata": {},
   "outputs": [
    {
     "name": "stdout",
     "output_type": "stream",
     "text": [
      "Student name: John Doe\n",
      "Student id: 12345\n",
      "Graduate student name: Jane Smith\n",
      "Graduate student id: 67890\n",
      "Graduate student advisor: Dr. Johnson\n",
      "Graduate student research area: Computer Science\n"
     ]
    }
   ],
   "source": [
    "# Define the Student class\n",
    "class Student:\n",
    "    # Constructor method to initialize the name and id properties\n",
    "    def __init__(self, name, id):\n",
    "        self.name = name\n",
    "        self.id = id\n",
    "\n",
    "# Define the GraduateStudent subclass, which inherits from Student\n",
    "class GraduateStudent(Student):\n",
    "    # Constructor method to initialize the advisor and research_area properties\n",
    "    def __init__(self, name, id, advisor, research_area):\n",
    "        # Call the parent class's constructor to initialize the name and id properties\n",
    "        super().__init__(name, id)\n",
    "        self.advisor = advisor\n",
    "        self.research_area = research_area\n",
    "\n",
    "# Create an object of the Student class\n",
    "student1 = Student(\"John Doe\", 12345)\n",
    "\n",
    "# Create an object of the GraduateStudent class\n",
    "grad_student1 = GraduateStudent(\"Jane Smith\", 67890, \"Dr. Johnson\", \"Computer Science\")\n",
    "\n",
    "# Print out the properties of the student1 object\n",
    "print(\"Student name:\", student1.name)\n",
    "print(\"Student id:\", student1.id)\n",
    "\n",
    "# Print out the properties of the grad_student1 object\n",
    "print(\"Graduate student name:\", grad_student1.name)\n",
    "print(\"Graduate student id:\", grad_student1.id)\n",
    "print(\"Graduate student advisor:\", grad_student1.advisor)\n",
    "print(\"Graduate student research area:\", grad_student1.research_area)"
   ]
  },
  {
   "cell_type": "markdown",
   "id": "9e8f6f5d-d153-4735-b395-46ee43dcd5f1",
   "metadata": {},
   "source": [
    "37. Create a class called \"Shape\" with methods to calculate the area and perimeter of the shape. Create subclasses of \"Shape\" for \"Rectangle\", \"Circle\", and \"Triangle\" with their own methods for calculating area and perimeter. Create objects of each class and print out their area and perimeter.\n"
   ]
  },
  {
   "cell_type": "code",
   "execution_count": 10,
   "id": "a9ffbdb5-5ecb-40f9-94f9-96657b2d8e4e",
   "metadata": {},
   "outputs": [
    {
     "name": "stdout",
     "output_type": "stream",
     "text": [
      "Rectangle area: 15\n",
      "Rectangle perimeter: 16\n",
      "Circle area: 50.26548245743669\n",
      "Circle perimeter: 25.132741228718345\n",
      "Triangle area: 6.0\n",
      "Triangle perimeter: 12\n"
     ]
    }
   ],
   "source": [
    "import math\n",
    "\n",
    "# Define the Shape class\n",
    "class Shape:\n",
    "    def calculate_area(self):\n",
    "        pass\n",
    "\n",
    "    def calculate_perimeter(self):\n",
    "        pass\n",
    "\n",
    "# Define the Rectangle class, which inherits from Shape\n",
    "class Rectangle(Shape):\n",
    "    def __init__(self, width, height):\n",
    "        self.width = width\n",
    "        self.height = height\n",
    "\n",
    "    def calculate_area(self):\n",
    "        return self.width * self.height\n",
    "\n",
    "    def calculate_perimeter(self):\n",
    "        return 2 * (self.width + self.height)\n",
    "\n",
    "# Define the Circle class, which inherits from Shape\n",
    "class Circle(Shape):\n",
    "    def __init__(self, radius):\n",
    "        self.radius = radius\n",
    "\n",
    "    def calculate_area(self):\n",
    "        return math.pi * self.radius ** 2\n",
    "\n",
    "    def calculate_perimeter(self):\n",
    "        return 2 * math.pi * self.radius\n",
    "\n",
    "# Define the Triangle class, which inherits from Shape\n",
    "class Triangle(Shape):\n",
    "    def __init__(self, a, b, c):\n",
    "        self.a = a\n",
    "        self.b = b\n",
    "        self.c = c\n",
    "\n",
    "    def calculate_area(self):\n",
    "        s = (self.a + self.b + self.c) / 2\n",
    "        return math.sqrt(s * (s - self.a) * (s - self.b) * (s - self.c))\n",
    "\n",
    "    def calculate_perimeter(self):\n",
    "        return self.a + self.b + self.c\n",
    "\n",
    "# Create objects of each class and print out their area and perimeter\n",
    "rectangle = Rectangle(5, 3)\n",
    "print(\"Rectangle area:\", rectangle.calculate_area())\n",
    "print(\"Rectangle perimeter:\", rectangle.calculate_perimeter())\n",
    "\n",
    "circle = Circle(4)\n",
    "print(\"Circle area:\", circle.calculate_area())\n",
    "print(\"Circle perimeter:\", circle.calculate_perimeter())\n",
    "\n",
    "triangle = Triangle(3, 4, 5)\n",
    "print(\"Triangle area:\", triangle.calculate_area())\n",
    "print(\"Triangle perimeter:\", triangle.calculate_perimeter())"
   ]
  },
  {
   "cell_type": "markdown",
   "id": "b80a3275-7704-4d02-8d3f-2c91bfedfb68",
   "metadata": {},
   "source": [
    "38.Create a class called \"Employee\" with properties for \"name\", \"id\", and \"salary\". Add methods to give the employee a raise and to calculate their annual salary. Create objects of this class and test out the methods."
   ]
  },
  {
   "cell_type": "code",
   "execution_count": 11,
   "id": "bca319a8-c0fa-48bb-b57e-5f94c307cb1b",
   "metadata": {},
   "outputs": [
    {
     "name": "stdout",
     "output_type": "stream",
     "text": [
      "Initial salary: 50000\n",
      "New salary: 51000\n",
      "Annual salary: 612000\n"
     ]
    }
   ],
   "source": [
    "class Employee:\n",
    "    def __init__(self, name, id, salary):\n",
    "        self.name = name\n",
    "        self.id = id\n",
    "        self.salary = salary\n",
    "\n",
    "    def give_raise(self, amount):\n",
    "        self.salary += amount\n",
    "\n",
    "    def annual_salary(self):\n",
    "        return self.salary * 12\n",
    "\n",
    "# create an employee object\n",
    "employee1 = Employee(\"John Doe\", 12345, 50000)\n",
    "\n",
    "# print out the initial salary\n",
    "print(\"Initial salary:\", employee1.salary)\n",
    "\n",
    "# give the employee a raise of $1000\n",
    "employee1.give_raise(1000)\n",
    "\n",
    "# print out the new salary\n",
    "print(\"New salary:\", employee1.salary)\n",
    "\n",
    "# print out the annual salary\n",
    "print(\"Annual salary:\", employee1.annual_salary())"
   ]
  },
  {
   "cell_type": "markdown",
   "id": "ac41d057-46b0-499e-a6ec-a170e7b7aa80",
   "metadata": {},
   "source": [
    "39.Create a class called \"Book\" with properties for \"title\", \"author\", and \"publisher\". Create a subclass of \"Book\" called \"Ebook\" with additional properties for \"file_format\" and \"file_size\". Create objects of both classes and print out their properties."
   ]
  },
  {
   "cell_type": "code",
   "execution_count": 12,
   "id": "509177fe-7566-42b9-bce3-4de121cf23e2",
   "metadata": {},
   "outputs": [
    {
     "name": "stdout",
     "output_type": "stream",
     "text": [
      "Book title: To Kill a Mockingbird\n",
      "Book author: Harper Lee\n",
      "Book publisher: J. B. Lippincott & Co.\n",
      "Ebook title: The Hunger Games\n",
      "Ebook author: Suzanne Collins\n",
      "Ebook publisher: Scholastic Corporation\n",
      "Ebook file format: PDF\n",
      "Ebook file size: 2.5 MB\n"
     ]
    }
   ],
   "source": [
    "class Book:\n",
    "    def __init__(self, title, author, publisher):\n",
    "        self.title = title\n",
    "        self.author = author\n",
    "        self.publisher = publisher\n",
    "\n",
    "class Ebook(Book):\n",
    "    def __init__(self, title, author, publisher, file_format, file_size):\n",
    "        super().__init__(title, author, publisher)\n",
    "        self.file_format = file_format\n",
    "        self.file_size = file_size\n",
    "\n",
    "# Create an object of the Book class\n",
    "book1 = Book(\"To Kill a Mockingbird\", \"Harper Lee\", \"J. B. Lippincott & Co.\")\n",
    "\n",
    "# Create an object of the Ebook class\n",
    "ebook1 = Ebook(\"The Hunger Games\", \"Suzanne Collins\", \"Scholastic Corporation\", \"PDF\", \"2.5 MB\")\n",
    "\n",
    "# Print out the properties of book1\n",
    "print(\"Book title:\", book1.title)\n",
    "print(\"Book author:\", book1.author)\n",
    "print(\"Book publisher:\", book1.publisher)\n",
    "\n",
    "# Print out the properties of ebook1\n",
    "print(\"Ebook title:\", ebook1.title)\n",
    "print(\"Ebook author:\", ebook1.author)\n",
    "print(\"Ebook publisher:\", ebook1.publisher)\n",
    "print(\"Ebook file format:\", ebook1.file_format)\n",
    "print(\"Ebook file size:\", ebook1.file_size)"
   ]
  },
  {
   "cell_type": "markdown",
   "id": "4ac5995d-4c89-4d4c-adcc-e41b5ea38edd",
   "metadata": {},
   "source": [
    "40.Create a class called \"Bank\" with properties for \"name\" and \"accounts\". Add methods to create new accounts, deposit and withdraw money from accounts, and to calculate the total balance of all accounts. Create an object of this class and test out the methods."
   ]
  },
  {
   "cell_type": "code",
   "execution_count": 13,
   "id": "15ee861b-9cb5-48dc-a6fe-5a7e306525f0",
   "metadata": {},
   "outputs": [
    {
     "name": "stdout",
     "output_type": "stream",
     "text": [
      "Book title: To Kill a Mockingbird\n",
      "Book author: Harper Lee\n",
      "Book publisher: J. B. Lippincott & Co.\n",
      "Ebook title: The Hunger Games\n",
      "Ebook author: Suzanne Collins\n",
      "Ebook publisher: Scholastic Corporation\n",
      "Ebook file format: PDF\n",
      "Ebook file size: 2.5 MB\n"
     ]
    }
   ],
   "source": [
    "class Book:\n",
    "    def __init__(self, title, author, publisher):\n",
    "        self.title = title\n",
    "        self.author = author\n",
    "        self.publisher = publisher\n",
    "\n",
    "class Ebook(Book):\n",
    "    def __init__(self, title, author, publisher, file_format, file_size):\n",
    "        super().__init__(title, author, publisher)\n",
    "        self.file_format = file_format\n",
    "        self.file_size = file_size\n",
    "\n",
    "# Create an object of the Book class\n",
    "book1 = Book(\"To Kill a Mockingbird\", \"Harper Lee\", \"J. B. Lippincott & Co.\")\n",
    "\n",
    "# Create an object of the Ebook class\n",
    "ebook1 = Ebook(\"The Hunger Games\", \"Suzanne Collins\", \"Scholastic Corporation\", \"PDF\", \"2.5 MB\")\n",
    "\n",
    "# Print out the properties of book1\n",
    "print(\"Book title:\", book1.title)\n",
    "print(\"Book author:\", book1.author)\n",
    "print(\"Book publisher:\", book1.publisher)\n",
    "\n",
    "# Print out the properties of ebook1\n",
    "print(\"Ebook title:\", ebook1.title)\n",
    "print(\"Ebook author:\", ebook1.author)\n",
    "print(\"Ebook publisher:\", ebook1.publisher)\n",
    "print(\"Ebook file format:\", ebook1.file_format)\n",
    "print(\"Ebook file size:\", ebook1.file_size)"
   ]
  },
  {
   "cell_type": "markdown",
   "id": "ed705aa7-50af-472c-9fa7-418e95a924d0",
   "metadata": {},
   "source": [
    "41.Can you create a Python program that reads a text file and counts the number of words contained within it? The program should be designed to read the file and break it down into individual words, using spaces, punctuation marks, and other delimiters to separate the words. It should then count the number of words found in the file and display this count as output. The program should be flexible enough to work with different text files and should be able to handle a variety of formatting and punctuation styles."
   ]
  },
  {
   "cell_type": "code",
   "execution_count": 18,
   "id": "bac1315e-1195-4b94-b28c-c365ff417935",
   "metadata": {},
   "outputs": [
    {
     "ename": "FileNotFoundError",
     "evalue": "[Errno 2] No such file or directory: 'filename.txt'",
     "output_type": "error",
     "traceback": [
      "\u001b[0;31m---------------------------------------------------------------------------\u001b[0m",
      "\u001b[0;31mFileNotFoundError\u001b[0m                         Traceback (most recent call last)",
      "Cell \u001b[0;32mIn[18], line 2\u001b[0m\n\u001b[1;32m      1\u001b[0m \u001b[38;5;66;03m# Open the file in read mode\u001b[39;00m\n\u001b[0;32m----> 2\u001b[0m \u001b[38;5;28;01mwith\u001b[39;00m \u001b[38;5;28;43mopen\u001b[39;49m\u001b[43m(\u001b[49m\u001b[38;5;124;43m\"\u001b[39;49m\u001b[38;5;124;43mfilename.txt\u001b[39;49m\u001b[38;5;124;43m\"\u001b[39;49m\u001b[43m,\u001b[49m\u001b[43m \u001b[49m\u001b[38;5;124;43m\"\u001b[39;49m\u001b[38;5;124;43mr\u001b[39;49m\u001b[38;5;124;43m\"\u001b[39;49m\u001b[43m)\u001b[49m \u001b[38;5;28;01mas\u001b[39;00m file:\n\u001b[1;32m      3\u001b[0m     \u001b[38;5;66;03m# Read the content of the file and split it into words\u001b[39;00m\n\u001b[1;32m      4\u001b[0m     words \u001b[38;5;241m=\u001b[39m file\u001b[38;5;241m.\u001b[39mread()\u001b[38;5;241m.\u001b[39msplit()\n\u001b[1;32m      6\u001b[0m \u001b[38;5;66;03m# Count the number of words\u001b[39;00m\n",
      "File \u001b[0;32m/opt/conda/lib/python3.10/site-packages/IPython/core/interactiveshell.py:282\u001b[0m, in \u001b[0;36m_modified_open\u001b[0;34m(file, *args, **kwargs)\u001b[0m\n\u001b[1;32m    275\u001b[0m \u001b[38;5;28;01mif\u001b[39;00m file \u001b[38;5;129;01min\u001b[39;00m {\u001b[38;5;241m0\u001b[39m, \u001b[38;5;241m1\u001b[39m, \u001b[38;5;241m2\u001b[39m}:\n\u001b[1;32m    276\u001b[0m     \u001b[38;5;28;01mraise\u001b[39;00m \u001b[38;5;167;01mValueError\u001b[39;00m(\n\u001b[1;32m    277\u001b[0m         \u001b[38;5;124mf\u001b[39m\u001b[38;5;124m\"\u001b[39m\u001b[38;5;124mIPython won\u001b[39m\u001b[38;5;124m'\u001b[39m\u001b[38;5;124mt let you open fd=\u001b[39m\u001b[38;5;132;01m{\u001b[39;00mfile\u001b[38;5;132;01m}\u001b[39;00m\u001b[38;5;124m by default \u001b[39m\u001b[38;5;124m\"\u001b[39m\n\u001b[1;32m    278\u001b[0m         \u001b[38;5;124m\"\u001b[39m\u001b[38;5;124mas it is likely to crash IPython. If you know what you are doing, \u001b[39m\u001b[38;5;124m\"\u001b[39m\n\u001b[1;32m    279\u001b[0m         \u001b[38;5;124m\"\u001b[39m\u001b[38;5;124myou can use builtins\u001b[39m\u001b[38;5;124m'\u001b[39m\u001b[38;5;124m open.\u001b[39m\u001b[38;5;124m\"\u001b[39m\n\u001b[1;32m    280\u001b[0m     )\n\u001b[0;32m--> 282\u001b[0m \u001b[38;5;28;01mreturn\u001b[39;00m \u001b[43mio_open\u001b[49m\u001b[43m(\u001b[49m\u001b[43mfile\u001b[49m\u001b[43m,\u001b[49m\u001b[43m \u001b[49m\u001b[38;5;241;43m*\u001b[39;49m\u001b[43margs\u001b[49m\u001b[43m,\u001b[49m\u001b[43m \u001b[49m\u001b[38;5;241;43m*\u001b[39;49m\u001b[38;5;241;43m*\u001b[39;49m\u001b[43mkwargs\u001b[49m\u001b[43m)\u001b[49m\n",
      "\u001b[0;31mFileNotFoundError\u001b[0m: [Errno 2] No such file or directory: 'filename.txt'"
     ]
    }
   ],
   "source": [
    "# Open the file in read mode\n",
    "with open(\"filename.txt\", \"r\") as file:\n",
    "    # Read the content of the file and split it into words\n",
    "    words = file.read().split()\n",
    "\n",
    "# Count the number of words\n",
    "num_words = len(words)\n",
    "\n",
    "# Print the number of words in the file\n",
    "print(\"Number of words:\", num_words)\n",
    "\n",
    "##NOTE:\n",
    "#Make sure to replace filename.txt with the name of the text file you want to read.\n",
    "#This program reads the entire contents of the file, splits it into words using whitespace as the separator,\n",
    "#counts the number of words, and prints the result."
   ]
  },
  {
   "cell_type": "markdown",
   "id": "2d20a60f-89b6-49c6-9477-f27e7c1f1bd6",
   "metadata": {},
   "source": [
    "42.Could you help me create a Python program that can find and display the longest word in a text file? The program should be able to read any text file and separate its contents into individual words, taking into account various delimiters like spaces, punctuation marks, and other characters. Then, it should compare the length of each word and determine which one is the longest, and finally, print that word as output. The program should be versatile enough to work with various text files and be able to handle different formatting styles and punctuation."
   ]
  },
  {
   "cell_type": "code",
   "execution_count": 19,
   "id": "a9377034-83a9-423e-9e30-b2edfa51939c",
   "metadata": {},
   "outputs": [
    {
     "ename": "FileNotFoundError",
     "evalue": "[Errno 2] No such file or directory: 'filename.txt'",
     "output_type": "error",
     "traceback": [
      "\u001b[0;31m---------------------------------------------------------------------------\u001b[0m",
      "\u001b[0;31mFileNotFoundError\u001b[0m                         Traceback (most recent call last)",
      "Cell \u001b[0;32mIn[19], line 1\u001b[0m\n\u001b[0;32m----> 1\u001b[0m \u001b[38;5;28;01mwith\u001b[39;00m \u001b[38;5;28;43mopen\u001b[39;49m\u001b[43m(\u001b[49m\u001b[38;5;124;43m\"\u001b[39;49m\u001b[38;5;124;43mfilename.txt\u001b[39;49m\u001b[38;5;124;43m\"\u001b[39;49m\u001b[43m,\u001b[49m\u001b[43m \u001b[49m\u001b[38;5;124;43m\"\u001b[39;49m\u001b[38;5;124;43mr\u001b[39;49m\u001b[38;5;124;43m\"\u001b[39;49m\u001b[43m)\u001b[49m \u001b[38;5;28;01mas\u001b[39;00m file:\n\u001b[1;32m      2\u001b[0m     text \u001b[38;5;241m=\u001b[39m file\u001b[38;5;241m.\u001b[39mread()\n\u001b[1;32m      3\u001b[0m     words \u001b[38;5;241m=\u001b[39m text\u001b[38;5;241m.\u001b[39msplit()\n",
      "File \u001b[0;32m/opt/conda/lib/python3.10/site-packages/IPython/core/interactiveshell.py:282\u001b[0m, in \u001b[0;36m_modified_open\u001b[0;34m(file, *args, **kwargs)\u001b[0m\n\u001b[1;32m    275\u001b[0m \u001b[38;5;28;01mif\u001b[39;00m file \u001b[38;5;129;01min\u001b[39;00m {\u001b[38;5;241m0\u001b[39m, \u001b[38;5;241m1\u001b[39m, \u001b[38;5;241m2\u001b[39m}:\n\u001b[1;32m    276\u001b[0m     \u001b[38;5;28;01mraise\u001b[39;00m \u001b[38;5;167;01mValueError\u001b[39;00m(\n\u001b[1;32m    277\u001b[0m         \u001b[38;5;124mf\u001b[39m\u001b[38;5;124m\"\u001b[39m\u001b[38;5;124mIPython won\u001b[39m\u001b[38;5;124m'\u001b[39m\u001b[38;5;124mt let you open fd=\u001b[39m\u001b[38;5;132;01m{\u001b[39;00mfile\u001b[38;5;132;01m}\u001b[39;00m\u001b[38;5;124m by default \u001b[39m\u001b[38;5;124m\"\u001b[39m\n\u001b[1;32m    278\u001b[0m         \u001b[38;5;124m\"\u001b[39m\u001b[38;5;124mas it is likely to crash IPython. If you know what you are doing, \u001b[39m\u001b[38;5;124m\"\u001b[39m\n\u001b[1;32m    279\u001b[0m         \u001b[38;5;124m\"\u001b[39m\u001b[38;5;124myou can use builtins\u001b[39m\u001b[38;5;124m'\u001b[39m\u001b[38;5;124m open.\u001b[39m\u001b[38;5;124m\"\u001b[39m\n\u001b[1;32m    280\u001b[0m     )\n\u001b[0;32m--> 282\u001b[0m \u001b[38;5;28;01mreturn\u001b[39;00m \u001b[43mio_open\u001b[49m\u001b[43m(\u001b[49m\u001b[43mfile\u001b[49m\u001b[43m,\u001b[49m\u001b[43m \u001b[49m\u001b[38;5;241;43m*\u001b[39;49m\u001b[43margs\u001b[49m\u001b[43m,\u001b[49m\u001b[43m \u001b[49m\u001b[38;5;241;43m*\u001b[39;49m\u001b[38;5;241;43m*\u001b[39;49m\u001b[43mkwargs\u001b[49m\u001b[43m)\u001b[49m\n",
      "\u001b[0;31mFileNotFoundError\u001b[0m: [Errno 2] No such file or directory: 'filename.txt'"
     ]
    }
   ],
   "source": [
    "with open(\"filename.txt\", \"r\") as file:\n",
    "    text = file.read()\n",
    "    words = text.split()\n",
    "\n",
    "longest_word = max(words, key=len)\n",
    "print(\"The longest word is:\", longest_word)"
   ]
  },
  {
   "cell_type": "markdown",
   "id": "0eaae04e-2871-4f25-a682-99f7a2a3273b",
   "metadata": {},
   "source": [
    "43.Write a Python program to read a text file and print out the most frequent word(s) in the file."
   ]
  },
  {
   "cell_type": "code",
   "execution_count": 20,
   "id": "1fefae9d-0fcc-4812-9519-221b63479063",
   "metadata": {},
   "outputs": [
    {
     "ename": "FileNotFoundError",
     "evalue": "[Errno 2] No such file or directory: 'filename.txt'",
     "output_type": "error",
     "traceback": [
      "\u001b[0;31m---------------------------------------------------------------------------\u001b[0m",
      "\u001b[0;31mFileNotFoundError\u001b[0m                         Traceback (most recent call last)",
      "Cell \u001b[0;32mIn[20], line 4\u001b[0m\n\u001b[1;32m      1\u001b[0m \u001b[38;5;28;01mfrom\u001b[39;00m \u001b[38;5;21;01mcollections\u001b[39;00m \u001b[38;5;28;01mimport\u001b[39;00m Counter\n\u001b[1;32m      3\u001b[0m \u001b[38;5;66;03m# Open the file and read its contents\u001b[39;00m\n\u001b[0;32m----> 4\u001b[0m \u001b[38;5;28;01mwith\u001b[39;00m \u001b[38;5;28;43mopen\u001b[39;49m\u001b[43m(\u001b[49m\u001b[38;5;124;43m'\u001b[39;49m\u001b[38;5;124;43mfilename.txt\u001b[39;49m\u001b[38;5;124;43m'\u001b[39;49m\u001b[43m,\u001b[49m\u001b[43m \u001b[49m\u001b[38;5;124;43m'\u001b[39;49m\u001b[38;5;124;43mr\u001b[39;49m\u001b[38;5;124;43m'\u001b[39;49m\u001b[43m)\u001b[49m \u001b[38;5;28;01mas\u001b[39;00m file:\n\u001b[1;32m      5\u001b[0m     text \u001b[38;5;241m=\u001b[39m file\u001b[38;5;241m.\u001b[39mread()\n\u001b[1;32m      7\u001b[0m \u001b[38;5;66;03m# Remove special characters and split the text into words\u001b[39;00m\n",
      "File \u001b[0;32m/opt/conda/lib/python3.10/site-packages/IPython/core/interactiveshell.py:282\u001b[0m, in \u001b[0;36m_modified_open\u001b[0;34m(file, *args, **kwargs)\u001b[0m\n\u001b[1;32m    275\u001b[0m \u001b[38;5;28;01mif\u001b[39;00m file \u001b[38;5;129;01min\u001b[39;00m {\u001b[38;5;241m0\u001b[39m, \u001b[38;5;241m1\u001b[39m, \u001b[38;5;241m2\u001b[39m}:\n\u001b[1;32m    276\u001b[0m     \u001b[38;5;28;01mraise\u001b[39;00m \u001b[38;5;167;01mValueError\u001b[39;00m(\n\u001b[1;32m    277\u001b[0m         \u001b[38;5;124mf\u001b[39m\u001b[38;5;124m\"\u001b[39m\u001b[38;5;124mIPython won\u001b[39m\u001b[38;5;124m'\u001b[39m\u001b[38;5;124mt let you open fd=\u001b[39m\u001b[38;5;132;01m{\u001b[39;00mfile\u001b[38;5;132;01m}\u001b[39;00m\u001b[38;5;124m by default \u001b[39m\u001b[38;5;124m\"\u001b[39m\n\u001b[1;32m    278\u001b[0m         \u001b[38;5;124m\"\u001b[39m\u001b[38;5;124mas it is likely to crash IPython. If you know what you are doing, \u001b[39m\u001b[38;5;124m\"\u001b[39m\n\u001b[1;32m    279\u001b[0m         \u001b[38;5;124m\"\u001b[39m\u001b[38;5;124myou can use builtins\u001b[39m\u001b[38;5;124m'\u001b[39m\u001b[38;5;124m open.\u001b[39m\u001b[38;5;124m\"\u001b[39m\n\u001b[1;32m    280\u001b[0m     )\n\u001b[0;32m--> 282\u001b[0m \u001b[38;5;28;01mreturn\u001b[39;00m \u001b[43mio_open\u001b[49m\u001b[43m(\u001b[49m\u001b[43mfile\u001b[49m\u001b[43m,\u001b[49m\u001b[43m \u001b[49m\u001b[38;5;241;43m*\u001b[39;49m\u001b[43margs\u001b[49m\u001b[43m,\u001b[49m\u001b[43m \u001b[49m\u001b[38;5;241;43m*\u001b[39;49m\u001b[38;5;241;43m*\u001b[39;49m\u001b[43mkwargs\u001b[49m\u001b[43m)\u001b[49m\n",
      "\u001b[0;31mFileNotFoundError\u001b[0m: [Errno 2] No such file or directory: 'filename.txt'"
     ]
    }
   ],
   "source": [
    "from collections import Counter\n",
    "\n",
    "# Open the file and read its contents\n",
    "with open('filename.txt', 'r') as file:\n",
    "    text = file.read()\n",
    "\n",
    "# Remove special characters and split the text into words\n",
    "words = text.lower().replace('\\n', ' ').split()\n",
    "\n",
    "# Count the frequency of each word using Counter from collections module\n",
    "word_count = Counter(words)\n",
    "\n",
    "# Find the most frequent word(s)\n",
    "most_common = word_count.most_common()\n",
    "\n",
    "# Get the count of the most frequent word(s)\n",
    "max_count = most_common[0][1]\n",
    "\n",
    "# Print out all the words that have the same maximum frequency\n",
    "print(\"Most frequent word(s):\")\n",
    "for word, count in most_common:\n",
    "    if count == max_count:\n",
    "        print(f\"{word}: {count} times\")\n",
    "    else:\n",
    "        break"
   ]
  },
  {
   "cell_type": "markdown",
   "id": "c8fa730f-7265-47b5-8202-1582f739ad1f",
   "metadata": {},
   "source": [
    "44.How can you use Python to count the number of rows in a CSV file?"
   ]
  },
  {
   "cell_type": "code",
   "execution_count": 1,
   "id": "0a88b91b-13af-4bc2-aae1-2982022aa296",
   "metadata": {},
   "outputs": [
    {
     "ename": "FileNotFoundError",
     "evalue": "[Errno 2] No such file or directory: 'example.csv'",
     "output_type": "error",
     "traceback": [
      "\u001b[0;31m---------------------------------------------------------------------------\u001b[0m",
      "\u001b[0;31mFileNotFoundError\u001b[0m                         Traceback (most recent call last)",
      "Cell \u001b[0;32mIn[1], line 5\u001b[0m\n\u001b[1;32m      1\u001b[0m \u001b[38;5;28;01mimport\u001b[39;00m \u001b[38;5;21;01mcsv\u001b[39;00m\n\u001b[1;32m      3\u001b[0m filename \u001b[38;5;241m=\u001b[39m \u001b[38;5;124m\"\u001b[39m\u001b[38;5;124mexample.csv\u001b[39m\u001b[38;5;124m\"\u001b[39m  \u001b[38;5;66;03m# replace with the name of your CSV file\u001b[39;00m\n\u001b[0;32m----> 5\u001b[0m \u001b[38;5;28;01mwith\u001b[39;00m \u001b[38;5;28;43mopen\u001b[39;49m\u001b[43m(\u001b[49m\u001b[43mfilename\u001b[49m\u001b[43m,\u001b[49m\u001b[43m \u001b[49m\u001b[38;5;124;43m'\u001b[39;49m\u001b[38;5;124;43mr\u001b[39;49m\u001b[38;5;124;43m'\u001b[39;49m\u001b[43m)\u001b[49m \u001b[38;5;28;01mas\u001b[39;00m csvfile:\n\u001b[1;32m      6\u001b[0m     reader \u001b[38;5;241m=\u001b[39m csv\u001b[38;5;241m.\u001b[39mreader(csvfile)\n\u001b[1;32m      7\u001b[0m     num_rows \u001b[38;5;241m=\u001b[39m \u001b[38;5;28msum\u001b[39m(\u001b[38;5;241m1\u001b[39m \u001b[38;5;28;01mfor\u001b[39;00m row \u001b[38;5;129;01min\u001b[39;00m reader)\n",
      "File \u001b[0;32m/opt/conda/lib/python3.10/site-packages/IPython/core/interactiveshell.py:282\u001b[0m, in \u001b[0;36m_modified_open\u001b[0;34m(file, *args, **kwargs)\u001b[0m\n\u001b[1;32m    275\u001b[0m \u001b[38;5;28;01mif\u001b[39;00m file \u001b[38;5;129;01min\u001b[39;00m {\u001b[38;5;241m0\u001b[39m, \u001b[38;5;241m1\u001b[39m, \u001b[38;5;241m2\u001b[39m}:\n\u001b[1;32m    276\u001b[0m     \u001b[38;5;28;01mraise\u001b[39;00m \u001b[38;5;167;01mValueError\u001b[39;00m(\n\u001b[1;32m    277\u001b[0m         \u001b[38;5;124mf\u001b[39m\u001b[38;5;124m\"\u001b[39m\u001b[38;5;124mIPython won\u001b[39m\u001b[38;5;124m'\u001b[39m\u001b[38;5;124mt let you open fd=\u001b[39m\u001b[38;5;132;01m{\u001b[39;00mfile\u001b[38;5;132;01m}\u001b[39;00m\u001b[38;5;124m by default \u001b[39m\u001b[38;5;124m\"\u001b[39m\n\u001b[1;32m    278\u001b[0m         \u001b[38;5;124m\"\u001b[39m\u001b[38;5;124mas it is likely to crash IPython. If you know what you are doing, \u001b[39m\u001b[38;5;124m\"\u001b[39m\n\u001b[1;32m    279\u001b[0m         \u001b[38;5;124m\"\u001b[39m\u001b[38;5;124myou can use builtins\u001b[39m\u001b[38;5;124m'\u001b[39m\u001b[38;5;124m open.\u001b[39m\u001b[38;5;124m\"\u001b[39m\n\u001b[1;32m    280\u001b[0m     )\n\u001b[0;32m--> 282\u001b[0m \u001b[38;5;28;01mreturn\u001b[39;00m \u001b[43mio_open\u001b[49m\u001b[43m(\u001b[49m\u001b[43mfile\u001b[49m\u001b[43m,\u001b[49m\u001b[43m \u001b[49m\u001b[38;5;241;43m*\u001b[39;49m\u001b[43margs\u001b[49m\u001b[43m,\u001b[49m\u001b[43m \u001b[49m\u001b[38;5;241;43m*\u001b[39;49m\u001b[38;5;241;43m*\u001b[39;49m\u001b[43mkwargs\u001b[49m\u001b[43m)\u001b[49m\n",
      "\u001b[0;31mFileNotFoundError\u001b[0m: [Errno 2] No such file or directory: 'example.csv'"
     ]
    }
   ],
   "source": [
    "import csv\n",
    "\n",
    "filename = \"example.csv\"  # replace with the name of your CSV file\n",
    "\n",
    "with open(filename, 'r') as csvfile:\n",
    "    reader = csv.reader(csvfile)\n",
    "    num_rows = sum(1 for row in reader)\n",
    "\n",
    "print(f\"The number of rows in {filename} is {num_rows}\")"
   ]
  },
  {
   "cell_type": "markdown",
   "id": "8f346549-98b3-494d-baab-00cf9a60b237",
   "metadata": {},
   "source": [
    "45.How can you use Python to calculate the average of a specific column in a CSV file?"
   ]
  },
  {
   "cell_type": "code",
   "execution_count": 2,
   "id": "74fc0cdf-20c6-4761-82aa-45f8e431172d",
   "metadata": {},
   "outputs": [
    {
     "ename": "FileNotFoundError",
     "evalue": "[Errno 2] No such file or directory: 'example.csv'",
     "output_type": "error",
     "traceback": [
      "\u001b[0;31m---------------------------------------------------------------------------\u001b[0m",
      "\u001b[0;31mFileNotFoundError\u001b[0m                         Traceback (most recent call last)",
      "Cell \u001b[0;32mIn[2], line 6\u001b[0m\n\u001b[1;32m      3\u001b[0m filename \u001b[38;5;241m=\u001b[39m \u001b[38;5;124m\"\u001b[39m\u001b[38;5;124mexample.csv\u001b[39m\u001b[38;5;124m\"\u001b[39m  \u001b[38;5;66;03m# replace with the name of your CSV file\u001b[39;00m\n\u001b[1;32m      4\u001b[0m column_index \u001b[38;5;241m=\u001b[39m \u001b[38;5;241m2\u001b[39m  \u001b[38;5;66;03m# replace with the index of the column you want to calculate the average of\u001b[39;00m\n\u001b[0;32m----> 6\u001b[0m \u001b[38;5;28;01mwith\u001b[39;00m \u001b[38;5;28;43mopen\u001b[39;49m\u001b[43m(\u001b[49m\u001b[43mfilename\u001b[49m\u001b[43m,\u001b[49m\u001b[43m \u001b[49m\u001b[38;5;124;43m'\u001b[39;49m\u001b[38;5;124;43mr\u001b[39;49m\u001b[38;5;124;43m'\u001b[39;49m\u001b[43m)\u001b[49m \u001b[38;5;28;01mas\u001b[39;00m csvfile:\n\u001b[1;32m      7\u001b[0m     reader \u001b[38;5;241m=\u001b[39m csv\u001b[38;5;241m.\u001b[39mreader(csvfile)\n\u001b[1;32m      8\u001b[0m     \u001b[38;5;28mnext\u001b[39m(reader)  \u001b[38;5;66;03m# skip header row\u001b[39;00m\n",
      "File \u001b[0;32m/opt/conda/lib/python3.10/site-packages/IPython/core/interactiveshell.py:282\u001b[0m, in \u001b[0;36m_modified_open\u001b[0;34m(file, *args, **kwargs)\u001b[0m\n\u001b[1;32m    275\u001b[0m \u001b[38;5;28;01mif\u001b[39;00m file \u001b[38;5;129;01min\u001b[39;00m {\u001b[38;5;241m0\u001b[39m, \u001b[38;5;241m1\u001b[39m, \u001b[38;5;241m2\u001b[39m}:\n\u001b[1;32m    276\u001b[0m     \u001b[38;5;28;01mraise\u001b[39;00m \u001b[38;5;167;01mValueError\u001b[39;00m(\n\u001b[1;32m    277\u001b[0m         \u001b[38;5;124mf\u001b[39m\u001b[38;5;124m\"\u001b[39m\u001b[38;5;124mIPython won\u001b[39m\u001b[38;5;124m'\u001b[39m\u001b[38;5;124mt let you open fd=\u001b[39m\u001b[38;5;132;01m{\u001b[39;00mfile\u001b[38;5;132;01m}\u001b[39;00m\u001b[38;5;124m by default \u001b[39m\u001b[38;5;124m\"\u001b[39m\n\u001b[1;32m    278\u001b[0m         \u001b[38;5;124m\"\u001b[39m\u001b[38;5;124mas it is likely to crash IPython. If you know what you are doing, \u001b[39m\u001b[38;5;124m\"\u001b[39m\n\u001b[1;32m    279\u001b[0m         \u001b[38;5;124m\"\u001b[39m\u001b[38;5;124myou can use builtins\u001b[39m\u001b[38;5;124m'\u001b[39m\u001b[38;5;124m open.\u001b[39m\u001b[38;5;124m\"\u001b[39m\n\u001b[1;32m    280\u001b[0m     )\n\u001b[0;32m--> 282\u001b[0m \u001b[38;5;28;01mreturn\u001b[39;00m \u001b[43mio_open\u001b[49m\u001b[43m(\u001b[49m\u001b[43mfile\u001b[49m\u001b[43m,\u001b[49m\u001b[43m \u001b[49m\u001b[38;5;241;43m*\u001b[39;49m\u001b[43margs\u001b[49m\u001b[43m,\u001b[49m\u001b[43m \u001b[49m\u001b[38;5;241;43m*\u001b[39;49m\u001b[38;5;241;43m*\u001b[39;49m\u001b[43mkwargs\u001b[49m\u001b[43m)\u001b[49m\n",
      "\u001b[0;31mFileNotFoundError\u001b[0m: [Errno 2] No such file or directory: 'example.csv'"
     ]
    }
   ],
   "source": [
    "import csv\n",
    "\n",
    "filename = \"example.csv\"  # replace with the name of your CSV file\n",
    "column_index = 2  # replace with the index of the column you want to calculate the average of\n",
    "\n",
    "with open(filename, 'r') as csvfile:\n",
    "    reader = csv.reader(csvfile)\n",
    "    next(reader)  # skip header row\n",
    "    values = [float(row[column_index]) for row in reader]\n",
    "\n",
    "average = sum(values) / len(values)\n",
    "print(f\"The average of column {column_index} in {filename} is {average}\")"
   ]
  },
  {
   "cell_type": "markdown",
   "id": "1f59f33e-93eb-4d30-af64-9c52d5837d8a",
   "metadata": {},
   "source": [
    "51.Write a program that prints the first 10 even numbers using a for loop."
   ]
  },
  {
   "cell_type": "code",
   "execution_count": 3,
   "id": "909f5712-5165-4c2a-b28d-de3955ba798f",
   "metadata": {},
   "outputs": [
    {
     "name": "stdout",
     "output_type": "stream",
     "text": [
      "2\n",
      "4\n",
      "6\n",
      "8\n",
      "10\n",
      "12\n",
      "14\n",
      "16\n",
      "18\n",
      "20\n"
     ]
    }
   ],
   "source": [
    "# Write a program that prints the first 10 even numbers\n",
    "for i in range(2,21,2):\n",
    "    print(i)"
   ]
  },
  {
   "cell_type": "markdown",
   "id": "3d801925-1ee7-47be-b8a5-b85b572ffbb5",
   "metadata": {},
   "source": [
    "52.Write a program that takes a list of strings and prints out each string in reverse order using a for loop."
   ]
  },
  {
   "cell_type": "code",
   "execution_count": 4,
   "id": "349f2550-a9d3-4a98-bd7f-94e99026d28c",
   "metadata": {},
   "outputs": [
    {
     "name": "stdout",
     "output_type": "stream",
     "text": [
      "olleh\n",
      "dlrow\n",
      "nohtyp\n",
      "gnimargorp\n"
     ]
    }
   ],
   "source": [
    "# TAke a list of strings \n",
    "my_list = [\"hello\", \"world\", \"python\", \"programing\"]\n",
    "\n",
    "#use a for loop to print each string in reverse order\n",
    "for s in my_list:\n",
    "    print(s[::-1])"
   ]
  },
  {
   "cell_type": "markdown",
   "id": "014cd31b-7f97-49d6-a964-fe0ceea32019",
   "metadata": {},
   "source": [
    "53.Write a program that prints the multiplication table of a given number using a for loop"
   ]
  },
  {
   "cell_type": "code",
   "execution_count": 6,
   "id": "7684ce64-2516-40d8-9d8f-0c1c92e858bc",
   "metadata": {},
   "outputs": [
    {
     "name": "stdin",
     "output_type": "stream",
     "text": [
      "Enter a number: 12\n"
     ]
    },
    {
     "name": "stdout",
     "output_type": "stream",
     "text": [
      "12 x 1 = 12\n",
      "12 x 2 = 24\n",
      "12 x 3 = 36\n",
      "12 x 4 = 48\n",
      "12 x 5 = 60\n",
      "12 x 6 = 72\n",
      "12 x 7 = 84\n",
      "12 x 8 = 96\n",
      "12 x 9 = 108\n",
      "12 x 10 = 120\n"
     ]
    }
   ],
   "source": [
    "# take input from the user\n",
    "num = int(input(\"Enter a number:\"))\n",
    "\n",
    "#use a for loop to iterate from 1 to 10\n",
    "for i in range(1, 11):\n",
    "    # calculate the product of num and i\n",
    "    product = num * i\n",
    "    \n",
    "    # print the result \n",
    "    print(num, \"x\", i, \"=\", product)"
   ]
  },
  {
   "cell_type": "markdown",
   "id": "e43af36d-58ba-42e7-8348-13a1b368cbee",
   "metadata": {},
   "source": [
    "54.Write a program that takes a list of integers as input and returns the sum of all the numbers in the list using a for loop."
   ]
  },
  {
   "cell_type": "code",
   "execution_count": 7,
   "id": "303ed10d-b9a7-465d-afed-c138170241b4",
   "metadata": {},
   "outputs": [
    {
     "name": "stdout",
     "output_type": "stream",
     "text": [
      "15\n"
     ]
    }
   ],
   "source": [
    "def sum_list(numbers):\n",
    "    total = 0\n",
    "    for num in numbers:\n",
    "        total += num\n",
    "    return total\n",
    "\n",
    "#Example usage:\n",
    "my_list = [1, 2, 3, 4, 5]\n",
    "print(sum_list(my_list))"
   ]
  },
  {
   "cell_type": "markdown",
   "id": "e303925b-8348-4912-afe4-c36bc3a01f2a",
   "metadata": {},
   "source": [
    "55.Write a program that prompts the user for a positive integer and then prints out all the prime numbers up to that number using a for loop."
   ]
  },
  {
   "cell_type": "code",
   "execution_count": 9,
   "id": "010c4c13-2cbe-414e-a73e-dbc2c99ce6bd",
   "metadata": {},
   "outputs": [
    {
     "name": "stdin",
     "output_type": "stream",
     "text": [
      "Enter a positive integer:  56\n"
     ]
    },
    {
     "name": "stdout",
     "output_type": "stream",
     "text": [
      "5\n",
      "7\n",
      "9\n",
      "11\n",
      "13\n",
      "15\n",
      "17\n",
      "19\n",
      "21\n",
      "23\n",
      "25\n",
      "27\n",
      "29\n",
      "31\n",
      "33\n",
      "35\n",
      "37\n",
      "39\n",
      "41\n",
      "43\n",
      "45\n",
      "47\n",
      "49\n",
      "51\n",
      "53\n",
      "55\n"
     ]
    }
   ],
   "source": [
    "# Function to check if a number is prime \n",
    "def is_prime(n):\n",
    "    if n <= 1:\n",
    "        return False \n",
    "    for i in range(2, int(n**0.5) + 1):\n",
    "        if n % i == 0:\n",
    "            return False\n",
    "        return True\n",
    "    \n",
    "# prompt user for input\n",
    "n = int(input(\"Enter a positive integer: \"))\n",
    "\n",
    "# Loop through all numbers up to n and print prime numbers\n",
    "for i in range(2, n+1):\n",
    "    if is_prime(i):\n",
    "        print(i)"
   ]
  },
  {
   "cell_type": "markdown",
   "id": "23bd727b-7200-453e-a630-2428fef89823",
   "metadata": {},
   "source": [
    "56.Write a program that prompts the user to enter a password until the correct password is entered using a while loop."
   ]
  },
  {
   "cell_type": "code",
   "execution_count": 11,
   "id": "8e70faf2-800e-43a7-bd6b-03fefb8f70cb",
   "metadata": {},
   "outputs": [
    {
     "name": "stdin",
     "output_type": "stream",
     "text": [
      "Enter password:  pssword234\n"
     ]
    },
    {
     "name": "stdout",
     "output_type": "stream",
     "text": [
      "Incorrect password!\n"
     ]
    },
    {
     "name": "stdin",
     "output_type": "stream",
     "text": [
      "Enter password:  password123\n"
     ]
    },
    {
     "name": "stdout",
     "output_type": "stream",
     "text": [
      "correct passsword!\n"
     ]
    }
   ],
   "source": [
    "# Defind the correct password \n",
    "password  = \"password123\"\n",
    "\n",
    "# Prompt the user to enter a password \n",
    "user_input = input(\"Enter password: \")\n",
    "\n",
    "#keep prompting until correct password is entered\n",
    "while user_input != password:\n",
    "    print(\"Incorrect password!\")\n",
    "    user_input = input(\"Enter password: \")\n",
    "\n",
    "print(\"correct passsword!\")\n",
    "\n"
   ]
  },
  {
   "cell_type": "markdown",
   "id": "fae5a9cb-4fac-45d2-bad6-34a05d218c03",
   "metadata": {},
   "source": [
    "57.Write a program that takes a list of strings and prints out each string in reverse order using a while loop."
   ]
  },
  {
   "cell_type": "code",
   "execution_count": 13,
   "id": "a9cbc37d-971d-46a4-83e7-11defab6e150",
   "metadata": {},
   "outputs": [
    {
     "name": "stdout",
     "output_type": "stream",
     "text": [
      "o\n",
      "l\n",
      "l\n",
      "e\n",
      "h\n",
      "d\n",
      "l\n",
      "r\n",
      "o\n",
      "w\n",
      "n\n",
      "o\n",
      "h\n",
      "t\n",
      "y\n",
      "p\n",
      "g\n",
      "n\n",
      "i\n",
      "m\n",
      "a\n",
      "r\n",
      "g\n",
      "o\n",
      "r\n",
      "p\n"
     ]
    }
   ],
   "source": [
    "# Defind the list strings\n",
    "string_list = [\"hello\", \"world\", \"python\", \"programing\"]\n",
    "\n",
    "# Loop through each string in the list and print it in reverse order \n",
    "for string in string_list:\n",
    "    index = len(string) - 1\n",
    "    while index >= 0:\n",
    "        print(string[index], end=\"\")\n",
    "        index -= 1\n",
    "        print()"
   ]
  },
  {
   "cell_type": "code",
   "execution_count": 14,
   "id": "8eb932b0-8800-4531-a985-7454681d6f11",
   "metadata": {},
   "outputs": [
    {
     "name": "stdout",
     "output_type": "stream",
     "text": [
      "olleh\n",
      "dlrow\n",
      "nohtyp\n",
      "gnimmargorp\n"
     ]
    }
   ],
   "source": [
    "# Define the list of strings\n",
    "string_list = [\"hello\", \"world\", \"python\", \"programming\"]\n",
    "\n",
    "# Loop through each string in the list and print it in reverse order\n",
    "for string in string_list:\n",
    "    index = len(string) - 1\n",
    "    while index >= 0:\n",
    "        print(string[index], end=\"\")\n",
    "        index -= 1\n",
    "    print()"
   ]
  },
  {
   "cell_type": "markdown",
   "id": "5095ef7d-af44-4ed6-94cf-ce25f7bf8b19",
   "metadata": {},
   "source": [
    "58.Write a program that prompts the user to enter a positive integer and then prints out all the Fibonacci numbers up to that number using a while loop."
   ]
  },
  {
   "cell_type": "code",
   "execution_count": 15,
   "id": "8605a858-1f47-4045-854c-0a237c9492a5",
   "metadata": {},
   "outputs": [
    {
     "name": "stdin",
     "output_type": "stream",
     "text": [
      "Enter a positive integer:  9\n"
     ]
    },
    {
     "name": "stdout",
     "output_type": "stream",
     "text": [
      "0\n",
      "1\n",
      "1\n",
      "2\n",
      "3\n",
      "5\n",
      "8\n",
      "13\n"
     ]
    }
   ],
   "source": [
    "# Prompt user for input\n",
    "n = int(input(\"Enter a positive integer: \"))\n",
    "\n",
    "# Initialize variables for the first two Fibonacci numbers\n",
    "fib1 = 0\n",
    "fib2 = 1\n",
    "\n",
    "# Print the first Fibonacci number (0)\n",
    "print(fib1)\n",
    "\n",
    "# Print the second Fibonacci number (1)\n",
    "print(fib2)\n",
    "\n",
    "# Loop through all remaining Fibonacci numbers up to n\n",
    "while fib2 <= n:\n",
    "    # Compute the next Fibonacci number and print it\n",
    "    fib3 = fib1 + fib2\n",
    "    print(fib3)\n",
    "\n",
    "    # Update variables for the next iteration\n",
    "    fib1 = fib2\n",
    "    fib2 = fib3"
   ]
  },
  {
   "cell_type": "markdown",
   "id": "8bd7a2ac-161d-44f9-8a0b-5447fc31bac3",
   "metadata": {},
   "source": [
    "59.Write a program that takes a list of integers as input and returns the product of all the numbers in the list using a while loop."
   ]
  },
  {
   "cell_type": "code",
   "execution_count": 16,
   "id": "d4dad479-c11b-4203-b218-71bbf895b6a7",
   "metadata": {},
   "outputs": [
    {
     "name": "stdout",
     "output_type": "stream",
     "text": [
      "3840\n"
     ]
    }
   ],
   "source": [
    "# Define the list of integers\n",
    "int_list = [2, 4, 6, 8, 10]\n",
    "\n",
    "# Initialize the product variable to 1\n",
    "product = 1\n",
    "\n",
    "# Loop through each integer in the list and multiply it with the product variable\n",
    "index = 0\n",
    "while index < len(int_list):\n",
    "    product *= int_list[index]\n",
    "    index += 1\n",
    "\n",
    "# Print the final product\n",
    "print(product)"
   ]
  },
  {
   "cell_type": "markdown",
   "id": "b36a971d-e0e0-4aea-ad48-e89e717b333c",
   "metadata": {},
   "source": [
    "60.Write a program that prompts the user to enter a positive integer and then prints out the factorial of that number using a while loop."
   ]
  },
  {
   "cell_type": "code",
   "execution_count": 17,
   "id": "ada08a26-c34e-45b2-ac0b-16a23d8cea45",
   "metadata": {},
   "outputs": [
    {
     "name": "stdin",
     "output_type": "stream",
     "text": [
      "Enter a positive integer:  12\n"
     ]
    },
    {
     "name": "stdout",
     "output_type": "stream",
     "text": [
      "479001600\n"
     ]
    }
   ],
   "source": [
    "# Prompt user for input\n",
    "n = int(input(\"Enter a positive integer: \"))\n",
    "\n",
    "# Initialize the factorial variable to 1\n",
    "factorial = 1\n",
    "\n",
    "# Loop through all integers from 1 to n\n",
    "i = 1\n",
    "while i <= n:\n",
    "    # Multiply the current value of the factorial variable with i\n",
    "    factorial *= i\n",
    "\n",
    "    # Update the loop counter\n",
    "    i += 1\n",
    "\n",
    "# Print the final factorial value\n",
    "print(factorial)"
   ]
  },
  {
   "cell_type": "markdown",
   "id": "61d8d6f0-9d7c-4dd3-9e1e-81501987704a",
   "metadata": {},
   "source": [
    "61.Write a program that spawns two threads. One thread should print even numbers between 0 and 10, and the other thread should print odd numbers between 1 and 9."
   ]
  },
  {
   "cell_type": "code",
   "execution_count": 18,
   "id": "b01c596d-f758-49b9-8eae-db016ee66b31",
   "metadata": {},
   "outputs": [
    {
     "name": "stdout",
     "output_type": "stream",
     "text": [
      "0\n",
      "2\n",
      "4\n",
      "6\n",
      "8\n",
      "10\n",
      "1\n",
      "3\n",
      "5\n",
      "7\n",
      "9\n"
     ]
    }
   ],
   "source": [
    "import threading\n",
    "\n",
    "def print_even():\n",
    "    for i in range(0, 11, 2):\n",
    "        print(i)\n",
    "\n",
    "def print_odd():\n",
    "    for i in range(1, 10, 2):\n",
    "        print(i)\n",
    "\n",
    "# create threads\n",
    "t1 = threading.Thread(target=print_even)\n",
    "t2 = threading.Thread(target=print_odd)\n",
    "\n",
    "# start threads\n",
    "t1.start()\n",
    "t2.start()\n",
    "\n",
    "# wait for threads to finish\n",
    "t1.join()\n",
    "t2.join()"
   ]
  },
  {
   "cell_type": "markdown",
   "id": "dd643b3c-eb63-404a-b8dd-252416fc4024",
   "metadata": {},
   "source": [
    "62.Write a program that generates a list of random numbers and sorts them using multithreading. Use two threads to sort the first half and the second half of the list in parallel."
   ]
  },
  {
   "cell_type": "code",
   "execution_count": 1,
   "id": "0b03b1a2-7533-4c3b-8a66-780df813771f",
   "metadata": {},
   "outputs": [
    {
     "name": "stdout",
     "output_type": "stream",
     "text": [
      "Original List: [35, 36, 28, 5, 1, 94, 92, 46, 33, 48]\n",
      "Sorted List: [1, 5, 28, 33, 35, 36, 46, 48, 92, 94]\n"
     ]
    }
   ],
   "source": [
    "import threading\n",
    "import random\n",
    "\n",
    "# generate a list of random numbers\n",
    "my_list = [random.randint(1, 100) for _ in range(10)]\n",
    "print(\"Original List:\", my_list)\n",
    "\n",
    "# define the function to sort the list\n",
    "def sort_list(start, end):\n",
    "    my_list[start:end] = sorted(my_list[start:end])\n",
    "\n",
    "# create threads for sorting\n",
    "t1 = threading.Thread(target=sort_list, args=(0, len(my_list)//2))\n",
    "t2 = threading.Thread(target=sort_list, args=(len(my_list)//2, len(my_list)))\n",
    "\n",
    "# start the threads\n",
    "t1.start()\n",
    "t2.start()\n",
    "\n",
    "# wait for threads to finish\n",
    "t1.join()\n",
    "t2.join()\n",
    "\n",
    "# merge the sorted sublists\n",
    "sorted_list = sorted(my_list)\n",
    "\n",
    "print(\"Sorted List:\", sorted_list)"
   ]
  },
  {
   "cell_type": "markdown",
   "id": "21890e65-9837-4570-9d41-1c8318e953d9",
   "metadata": {},
   "source": [
    "63.Write a program that simulates a bank account transaction. The program should create two threads, one for a deposit and one for a withdrawal. The deposit thread should add  100totheaccount,andthewithdrawalthreadshouldwithdraw 50 from the account. Run the program for 10 iterations."
   ]
  },
  {
   "cell_type": "code",
   "execution_count": 2,
   "id": "cd9ee6c1-e384-47f0-b4e4-a648dcf62b0c",
   "metadata": {},
   "outputs": [
    {
     "name": "stdout",
     "output_type": "stream",
     "text": [
      "Deposited $100, balance is now $100\n",
      "Deposited $100, balance is now $200\n",
      "Deposited $100, balance is now $300\n",
      "Deposited $100, balance is now $400\n",
      "Deposited $100, balance is now $500\n",
      "Deposited $100, balance is now $600\n",
      "Deposited $100, balance is now $700\n",
      "Deposited $100, balance is now $800\n",
      "Deposited $100, balance is now $900\n",
      "Deposited $100, balance is now $1000\n",
      "Withdrawn $50, balance is now $950\n",
      "Withdrawn $50, balance is now $900\n",
      "Withdrawn $50, balance is now $850\n",
      "Withdrawn $50, balance is now $800\n",
      "Withdrawn $50, balance is now $750\n",
      "Withdrawn $50, balance is now $700\n",
      "Withdrawn $50, balance is now $650\n",
      "Withdrawn $50, balance is now $600\n",
      "Withdrawn $50, balance is now $550\n",
      "Withdrawn $50, balance is now $500\n"
     ]
    }
   ],
   "source": [
    "import threading\n",
    "\n",
    "balance = 0\n",
    "lock = threading.Lock()\n",
    "\n",
    "def deposit():\n",
    "    global balance\n",
    "    for i in range(10):\n",
    "        lock.acquire()\n",
    "        balance += 100\n",
    "        print(\"Deposited $100, balance is now $\" + str(balance))\n",
    "        lock.release()\n",
    "\n",
    "def withdraw():\n",
    "    global balance\n",
    "    for i in range(10):\n",
    "        lock.acquire()\n",
    "        balance -= 50\n",
    "        print(\"Withdrawn $50, balance is now $\" + str(balance))\n",
    "        lock.release()\n",
    "\n",
    "deposit_thread = threading.Thread(target=deposit)\n",
    "withdraw_thread = threading.Thread(target=withdraw)\n",
    "\n",
    "deposit_thread.start()\n",
    "withdraw_thread.start()\n",
    "\n",
    "deposit_thread.join()\n",
    "withdraw_thread.join()"
   ]
  },
  {
   "cell_type": "markdown",
   "id": "e8e235a8-241d-429a-8625-4fab86b28ca9",
   "metadata": {},
   "source": [
    "64.Write a Python program that creates a thread to print out the current date and time every 5 seconds. The program should continue running until the user presses the 'q' key."
   ]
  },
  {
   "cell_type": "code",
   "execution_count": 3,
   "id": "8b98a2b1-7ba0-4135-a225-856bb251f6ea",
   "metadata": {},
   "outputs": [
    {
     "name": "stdout",
     "output_type": "stream",
     "text": [
      "2023-09-25-16:26:21\n",
      "2023-09-25-16:26:26\n",
      "2023-09-25-16:26:31\n",
      "2023-09-25-16:26:36\n",
      "2023-09-25-16:26:41\n",
      "2023-09-25-16:26:46\n",
      "2023-09-25-16:26:51\n",
      "2023-09-25-16:26:56\n",
      "2023-09-25-16:27:01\n",
      "2023-09-25-16:27:06\n"
     ]
    },
    {
     "name": "stdin",
     "output_type": "stream",
     "text": [
      " q\n"
     ]
    },
    {
     "name": "stdout",
     "output_type": "stream",
     "text": [
      "2023-09-25-16:27:11\n"
     ]
    }
   ],
   "source": [
    "import threading \n",
    "import time\n",
    "\n",
    "def print_time():\n",
    "    while True:\n",
    "        print(time.strftime(\"%Y-%m-%d-%H:%M:%S\", time.localtime()))\n",
    "        time.sleep(5)\n",
    "\n",
    "t = threading.Thread(target=print_time)\n",
    "t.start()\n",
    "\n",
    "while True:\n",
    "    if input() == 'q':\n",
    "        break\n",
    "        "
   ]
  },
  {
   "cell_type": "markdown",
   "id": "d6fc7e4d-9715-4dfd-8282-24421075ce96",
   "metadata": {},
   "source": [
    "65.Write a Python program that creates two threads. Each thread should print out the numbers from 1 to 10. The two threads should run concurrently and print out the numbers in an interleaved fashion."
   ]
  },
  {
   "cell_type": "code",
   "execution_count": 6,
   "id": "45e55f54-5455-46eb-953e-9b2fbd05d863",
   "metadata": {},
   "outputs": [
    {
     "name": "stdout",
     "output_type": "stream",
     "text": [
      "1\n",
      "2\n",
      "3\n",
      "4\n",
      "5\n",
      "6\n",
      "7\n",
      "8\n",
      "9\n",
      "10\n",
      "1\n",
      "2\n",
      "3\n",
      "4\n",
      "5\n",
      "6\n",
      "7\n",
      "8\n",
      "9\n",
      "10\n",
      "2023-09-25-16:33:31\n",
      "2023-09-25-16:33:36\n",
      "2023-09-25-16:33:41\n",
      "2023-09-25-16:33:46\n",
      "2023-09-25-16:33:51\n",
      "2023-09-25-16:33:56\n",
      "2023-09-25-16:34:01\n",
      "2023-09-25-16:34:06\n",
      "2023-09-25-16:34:11\n",
      "2023-09-25-16:34:16\n",
      "2023-09-25-16:34:21\n",
      "2023-09-25-16:34:26\n",
      "2023-09-25-16:34:31\n",
      "2023-09-25-16:34:36\n"
     ]
    }
   ],
   "source": [
    "import threading\n",
    "def print_numbers(start, end):\n",
    "    for i in range(start, end+1):\n",
    "        print(i)\n",
    "        \n",
    "# create two threads\n",
    "thread1 = threading.Thread(target=print_numbers, args=(1, 10))\n",
    "thread2 = threading.Thread(target=print_numbers, args=(1, 10))\n",
    "\n",
    "# start the threads\n",
    "thread1.start()\n",
    "thread2.start()\n",
    "\n",
    "# wait for the threads to finish\n",
    "thread1.join()\n",
    "thread2.join()\n"
   ]
  },
  {
   "cell_type": "markdown",
   "id": "a43418ab-27af-40a3-8b31-2d08ad11f198",
   "metadata": {},
   "source": [
    "66.Write a Python program to create a shared variable between two threads and increment its value in each thread."
   ]
  },
  {
   "cell_type": "code",
   "execution_count": 8,
   "id": "9d27e9d7-6798-470d-a68e-66bca1c579ab",
   "metadata": {},
   "outputs": [
    {
     "name": "stdout",
     "output_type": "stream",
     "text": [
      "Shared variable value:  2\n",
      "2023-09-25-16:35:26\n"
     ]
    }
   ],
   "source": [
    "import threading\n",
    "\n",
    "shared_variable = 0\n",
    "lock = threading.Lock()\n",
    "\n",
    "def increment_variable():\n",
    "    global shared_variable\n",
    "    lock.acquire()\n",
    "    shared_variable += 1\n",
    "    lock.release()\n",
    "\n",
    "num1 = threading.Thread(target=increment_variable)\n",
    "num2 = threading.Thread(target=increment_variable)\n",
    "\n",
    "num1.start()\n",
    "num2.start()\n",
    "\n",
    "num1.join()\n",
    "num2.join()\n",
    "\n",
    "print(\"Shared variable value: \", shared_variable)"
   ]
  },
  {
   "cell_type": "markdown",
   "id": "ccb0326e-887e-4822-b11d-5df244907c98",
   "metadata": {},
   "source": [
    "67.Here's a Python program that creates a thread to count down from 5 to 0 and prints \"Blastoff!\" when the count reaches 0:"
   ]
  },
  {
   "cell_type": "code",
   "execution_count": 10,
   "id": "2c1ac5f9-68da-489d-8a70-36b8eb79f5cb",
   "metadata": {},
   "outputs": [
    {
     "name": "stdout",
     "output_type": "stream",
     "text": [
      "5\n",
      "4\n",
      "2023-09-25-16:38:47\n",
      "3\n",
      "2\n",
      "1\n",
      "Blastoff!\n",
      "2023-09-25-16:38:52\n",
      "2023-09-25-16:38:57\n",
      "2023-09-25-16:39:02\n"
     ]
    }
   ],
   "source": [
    "import threading as s\n",
    "import time\n",
    "\n",
    "def countdown():\n",
    "    for i in range(5, 0, -1):\n",
    "        print(i)\n",
    "        time.sleep(1)\n",
    "    print(\"Blastoff!\")\n",
    "    \n",
    "threada = s.Thread(target=countdown())\n",
    "threada.start()"
   ]
  },
  {
   "cell_type": "markdown",
   "id": "0379caa8-704a-4bae-a938-d9610319509e",
   "metadata": {},
   "source": [
    "70.Write a program that creates a thread to calculate the sum of the numbers from 1 to 100 and prints the result."
   ]
  },
  {
   "cell_type": "code",
   "execution_count": 13,
   "id": "baa067ca-dbca-4c26-90f0-051cde2f8787",
   "metadata": {},
   "outputs": [
    {
     "name": "stdout",
     "output_type": "stream",
     "text": [
      "2023-09-25-17:22:04\n",
      "The sum of the numbers from 1 to 100 is: 5050\n",
      "2023-09-25-17:22:09\n",
      "2023-09-25-17:22:14\n",
      "2023-09-25-17:22:19\n",
      "2023-09-25-17:22:24\n",
      "2023-09-25-17:22:29\n",
      "2023-09-25-17:22:34\n",
      "2023-09-25-17:22:39\n",
      "2023-09-25-17:22:44\n",
      "2023-09-25-17:22:49\n",
      "2023-09-25-17:22:54\n",
      "2023-09-25-17:22:59\n",
      "2023-09-25-17:23:04\n",
      "2023-09-25-17:23:09\n",
      "2023-09-25-17:23:14\n",
      "2023-09-25-17:23:19\n",
      "2023-09-25-17:23:24\n",
      "2023-09-25-17:23:29\n",
      "2023-09-25-17:23:34\n",
      "2023-09-25-17:23:39\n",
      "2023-09-25-17:23:44\n",
      "2023-09-25-17:23:49\n",
      "2023-09-25-17:23:54\n",
      "2023-09-25-17:23:59\n",
      "2023-09-25-17:24:04\n",
      "2023-09-25-17:24:09\n",
      "2023-09-25-17:24:14\n",
      "2023-09-25-17:24:19\n",
      "2023-09-25-17:24:29\n",
      "2023-09-25-17:24:34\n",
      "2023-09-25-17:24:39\n",
      "2023-09-25-17:24:44\n",
      "2023-09-25-17:24:49\n",
      "2023-09-25-17:24:54\n",
      "2023-09-25-17:24:59\n",
      "2023-09-25-17:25:04\n",
      "2023-09-25-17:25:09\n",
      "2023-09-25-17:25:14\n",
      "2023-09-25-17:25:19\n",
      "2023-09-25-17:25:24\n",
      "2023-09-25-17:25:29\n",
      "2023-09-25-17:25:34\n",
      "2023-09-25-17:25:39\n",
      "2023-09-25-17:25:44\n",
      "2023-09-25-17:25:49\n",
      "2023-09-25-17:25:54\n",
      "2023-09-25-17:25:59\n",
      "2023-09-25-17:26:04\n",
      "2023-09-25-17:26:09\n",
      "2023-09-25-17:26:14\n",
      "2023-09-25-17:26:19\n",
      "2023-09-25-17:26:24\n",
      "2023-09-25-17:26:29\n",
      "2023-09-25-17:26:34\n",
      "2023-09-25-17:26:39\n",
      "2023-09-25-17:26:44\n",
      "2023-09-25-17:26:49\n",
      "2023-09-25-17:26:54\n",
      "2023-09-25-17:26:59\n",
      "2023-09-25-17:27:04\n",
      "2023-09-25-17:27:09\n",
      "2023-09-25-17:27:14\n",
      "2023-09-25-17:27:19\n",
      "2023-09-25-17:27:24\n",
      "2023-09-25-17:27:29\n",
      "2023-09-25-17:27:34\n",
      "2023-09-25-17:27:39\n",
      "2023-09-25-17:27:44\n",
      "2023-09-25-17:27:49\n",
      "2023-09-25-17:27:54\n",
      "2023-09-25-17:27:59\n",
      "2023-09-25-17:28:04\n",
      "2023-09-25-17:28:09\n",
      "2023-09-25-17:28:14\n",
      "2023-09-25-17:28:19\n",
      "2023-09-25-17:28:24\n",
      "2023-09-25-17:28:30\n",
      "2023-09-25-17:28:35\n",
      "2023-09-25-17:28:40\n"
     ]
    }
   ],
   "source": [
    "import threading \n",
    "def sum_numbers():\n",
    "    result = sum(range(1, 101))\n",
    "    print(\"The sum of the numbers from 1 to 100 is:\", result)\n",
    "    \n",
    "thread = threading.Thread(target=sum_numbers)\n",
    "thread.start()\n",
    "thread.join()"
   ]
  },
  {
   "cell_type": "markdown",
   "id": "2109cee6-b78a-4255-bbe4-df7c15e79737",
   "metadata": {},
   "source": [
    "71.Write a Python program to create two processes that print out the numbers from 1 to 10 simultaneously."
   ]
  },
  {
   "cell_type": "code",
   "execution_count": 14,
   "id": "03827d5a-c167-4c20-beca-ed8f3eb88573",
   "metadata": {},
   "outputs": [
    {
     "name": "stdout",
     "output_type": "stream",
     "text": [
      "1\n",
      "2\n",
      "3\n",
      "4\n",
      "5\n",
      "6\n",
      "7\n",
      "8\n",
      "9\n",
      "10\n",
      "2023-09-25-17:29:30\n",
      "2023-09-25-17:29:35\n",
      "2023-09-25-17:29:40\n",
      "2023-09-25-17:29:45\n",
      "2023-09-25-17:29:50\n",
      "2023-09-25-17:29:55\n",
      "2023-09-25-17:30:00\n",
      "2023-09-25-17:30:05\n",
      "2023-09-25-17:30:10\n",
      "2023-09-25-17:30:15\n",
      "2023-09-25-17:30:20\n",
      "2023-09-25-17:30:25\n",
      "2023-09-25-17:30:30\n",
      "2023-09-25-17:30:35\n",
      "2023-09-25-17:30:40\n",
      "2023-09-25-17:30:45\n",
      "2023-09-25-17:30:50\n",
      "2023-09-25-17:30:55\n",
      "2023-09-25-17:31:00\n",
      "2023-09-25-17:31:05\n",
      "2023-09-25-17:31:10\n",
      "2023-09-25-17:31:15\n",
      "2023-09-25-17:31:20\n",
      "2023-09-25-17:31:25\n",
      "2023-09-25-17:31:30\n",
      "2023-09-25-17:31:35\n",
      "2023-09-25-17:31:40\n",
      "2023-09-25-17:31:45\n",
      "2023-09-25-17:31:50\n",
      "2023-09-25-17:31:55\n",
      "2023-09-25-17:32:00\n",
      "2023-09-25-17:32:05\n",
      "2023-09-25-17:32:10\n",
      "2023-09-25-17:32:15\n",
      "2023-09-25-17:32:20\n",
      "2023-09-25-17:32:25\n",
      "2023-09-25-17:32:30\n",
      "2023-09-25-17:32:35\n",
      "2023-09-25-17:32:40\n",
      "2023-09-25-17:32:45\n",
      "2023-09-25-17:32:50\n",
      "2023-09-25-17:32:55\n",
      "2023-09-25-17:33:00\n",
      "2023-09-25-17:33:05\n",
      "2023-09-25-17:33:10\n",
      "2023-09-25-17:33:15\n",
      "2023-09-25-17:33:20\n",
      "2023-09-25-17:33:25\n",
      "2023-09-25-17:33:30\n",
      "2023-09-25-17:33:35\n",
      "2023-09-25-17:33:40\n",
      "2023-09-25-17:33:45\n",
      "2023-09-25-17:33:50\n",
      "2023-09-25-17:33:55\n",
      "2023-09-25-17:34:00\n",
      "2023-09-25-17:34:05\n",
      "2023-09-25-17:34:10\n",
      "2023-09-25-17:34:15\n",
      "2023-09-25-17:34:20\n",
      "2023-09-25-17:34:25\n",
      "2023-09-25-17:34:35\n",
      "2023-09-25-17:34:40\n",
      "2023-09-25-17:34:45\n",
      "2023-09-25-17:34:50\n",
      "2023-09-25-17:34:55\n",
      "2023-09-25-17:35:00\n",
      "2023-09-25-17:35:05\n",
      "2023-09-25-17:35:10\n",
      "2023-09-25-17:35:15\n",
      "2023-09-25-17:35:20\n",
      "2023-09-25-17:35:25\n",
      "2023-09-25-17:35:30\n",
      "2023-09-25-17:35:35\n",
      "2023-09-25-17:35:40\n",
      "2023-09-25-17:35:45\n",
      "2023-09-25-17:35:50\n",
      "2023-09-25-17:35:55\n",
      "2023-09-25-17:36:00\n",
      "2023-09-25-17:36:05\n",
      "2023-09-25-17:36:10\n",
      "2023-09-25-17:36:15\n",
      "2023-09-25-17:36:20\n",
      "2023-09-25-17:36:25\n",
      "2023-09-25-17:36:30\n",
      "2023-09-25-17:36:35\n",
      "2023-09-25-17:36:40\n",
      "2023-09-25-17:36:45\n",
      "2023-09-25-17:36:50\n",
      "2023-09-25-17:36:55\n",
      "2023-09-25-17:37:00\n",
      "2023-09-25-17:37:05\n",
      "2023-09-25-17:37:10\n",
      "2023-09-25-17:37:15\n",
      "2023-09-25-17:37:20\n",
      "2023-09-25-17:37:25\n",
      "2023-09-25-17:37:30\n",
      "2023-09-25-17:37:35\n",
      "2023-09-25-17:37:40\n",
      "2023-09-25-17:37:45\n",
      "2023-09-25-17:37:50\n",
      "2023-09-25-17:37:55\n",
      "2023-09-25-17:38:00\n",
      "2023-09-25-17:38:05\n",
      "2023-09-25-17:38:10\n",
      "2023-09-25-17:38:15\n",
      "2023-09-25-17:38:20\n",
      "2023-09-25-17:38:25\n",
      "2023-09-25-17:38:30\n",
      "2023-09-25-17:38:35\n",
      "2023-09-25-17:38:40\n",
      "2023-09-25-17:38:45\n",
      "2023-09-25-17:38:50\n",
      "2023-09-25-17:38:55\n",
      "2023-09-25-17:39:00\n",
      "2023-09-25-17:39:05\n",
      "2023-09-25-17:39:10\n",
      "2023-09-25-17:39:15\n",
      "2023-09-25-17:39:20\n",
      "2023-09-25-17:39:25\n",
      "2023-09-25-17:39:30\n",
      "2023-09-25-17:39:35\n",
      "2023-09-25-17:39:40\n",
      "2023-09-25-17:39:45\n",
      "2023-09-25-17:39:50\n",
      "2023-09-25-17:39:55\n",
      "2023-09-25-17:40:00\n",
      "2023-09-25-17:40:05\n",
      "2023-09-25-17:40:10\n",
      "2023-09-25-17:40:15\n",
      "2023-09-25-17:40:20\n",
      "2023-09-25-17:40:25\n",
      "2023-09-25-17:40:30\n",
      "2023-09-25-17:40:35\n",
      "2023-09-25-17:40:40\n",
      "2023-09-25-17:40:45\n",
      "2023-09-25-17:40:50\n",
      "2023-09-25-17:40:55\n",
      "2023-09-25-17:41:00\n",
      "2023-09-25-17:41:05\n",
      "2023-09-25-17:41:10\n",
      "2023-09-25-17:41:15\n",
      "2023-09-25-17:41:20\n",
      "2023-09-25-17:41:25\n",
      "2023-09-25-17:41:30\n",
      "2023-09-25-17:41:35\n",
      "2023-09-25-17:41:40\n",
      "2023-09-25-17:41:45\n",
      "2023-09-25-17:41:50\n",
      "2023-09-25-17:41:55\n",
      "2023-09-25-17:42:00\n",
      "2023-09-25-17:42:05\n",
      "2023-09-25-17:42:10\n",
      "2023-09-25-17:42:15\n",
      "2023-09-25-17:42:20\n",
      "2023-09-25-17:42:25\n",
      "2023-09-25-17:42:30\n",
      "2023-09-25-17:42:35\n",
      "2023-09-25-17:42:40\n"
     ]
    }
   ],
   "source": [
    "from multiprocessing import Process\n",
    "\n",
    "def print_numbers(start, end ):\n",
    "    for i in range(start, end+1):\n",
    "        print(i)\n",
    "        \n",
    "if __name__ == '__main__':\n",
    "    p1 = Process(target= print_numbers, args=(1, 5))\n",
    "    p2 = Process(target= print_numbers, args=(6, 10))\n",
    "    \n",
    "    p1.start()\n",
    "    \n",
    "    p1.join()\n",
    "    \n",
    "    p2.start()\n",
    "    p2.join()"
   ]
  },
  {
   "cell_type": "markdown",
   "id": "27e0de92-ecb8-4cdc-a994-e0a69c511454",
   "metadata": {},
   "source": [
    "72.Write a Python program that creates four processes and computes the sum of the first 1000 integers using multiprocessing"
   ]
  },
  {
   "cell_type": "code",
   "execution_count": 20,
   "id": "4f4fde68-3afb-4771-bb5d-d8c095120c02",
   "metadata": {},
   "outputs": [
    {
     "name": "stdout",
     "output_type": "stream",
     "text": [
      "Total: 500500\n",
      "2023-09-25-17:46:31\n",
      "2023-09-25-17:46:36\n",
      "2023-09-25-17:46:41\n",
      "2023-09-25-17:46:46\n",
      "2023-09-25-17:46:51\n",
      "2023-09-25-17:46:56\n",
      "2023-09-25-17:47:01\n",
      "2023-09-25-17:47:06\n",
      "2023-09-25-17:47:11\n",
      "2023-09-25-17:47:16\n",
      "2023-09-25-17:47:21\n",
      "2023-09-25-17:47:26\n",
      "2023-09-25-17:47:31\n",
      "2023-09-25-17:47:36\n",
      "2023-09-25-17:47:41\n",
      "2023-09-25-17:47:46\n",
      "2023-09-25-17:47:51\n",
      "2023-09-25-17:47:56\n",
      "2023-09-25-17:48:01\n",
      "2023-09-25-17:48:06\n",
      "2023-09-25-17:48:11\n",
      "2023-09-25-17:48:16\n",
      "2023-09-25-17:48:21\n",
      "2023-09-25-17:48:26\n",
      "2023-09-25-17:48:31\n",
      "2023-09-25-17:48:36\n",
      "2023-09-25-17:48:41\n",
      "2023-09-25-17:48:46\n",
      "2023-09-25-17:48:51\n",
      "2023-09-25-17:48:56\n",
      "2023-09-25-17:49:01\n",
      "2023-09-25-17:49:06\n",
      "2023-09-25-17:49:11\n",
      "2023-09-25-17:49:16\n",
      "2023-09-25-17:49:21\n",
      "2023-09-25-17:49:26\n",
      "2023-09-25-17:49:31\n",
      "2023-09-25-17:49:36\n",
      "2023-09-25-17:49:41\n",
      "2023-09-25-17:49:46\n",
      "2023-09-25-17:49:51\n",
      "2023-09-25-17:50:01\n",
      "2023-09-25-17:50:06\n",
      "2023-09-25-17:50:11\n",
      "2023-09-25-17:50:16\n",
      "2023-09-25-17:50:21\n",
      "2023-09-25-17:50:26\n",
      "2023-09-25-17:50:31\n",
      "2023-09-25-17:50:36\n",
      "2023-09-25-17:50:41\n",
      "2023-09-25-17:50:46\n",
      "2023-09-25-17:50:51\n",
      "2023-09-25-17:50:56\n",
      "2023-09-25-17:51:01\n",
      "2023-09-25-17:51:06\n",
      "2023-09-25-17:51:11\n",
      "2023-09-25-17:51:16\n",
      "2023-09-25-17:51:21\n",
      "2023-09-25-17:51:26\n",
      "2023-09-25-17:51:31\n",
      "2023-09-25-17:51:36\n",
      "2023-09-25-17:51:41\n",
      "2023-09-25-17:51:46\n",
      "2023-09-25-17:51:51\n",
      "2023-09-25-17:51:56\n",
      "2023-09-25-17:52:01\n",
      "2023-09-25-17:52:06\n",
      "2023-09-25-17:52:11\n",
      "2023-09-25-17:52:16\n",
      "2023-09-25-17:52:21\n",
      "2023-09-25-17:52:26\n",
      "2023-09-25-17:52:31\n",
      "2023-09-25-17:52:36\n",
      "2023-09-25-17:52:41\n",
      "2023-09-25-17:52:46\n",
      "2023-09-25-17:52:51\n",
      "2023-09-25-17:52:56\n",
      "2023-09-25-17:53:01\n",
      "2023-09-25-17:53:06\n",
      "2023-09-25-17:53:11\n"
     ]
    }
   ],
   "source": [
    "from multiprocessing import Process, Value\n",
    "\n",
    "def compute_sum(start, end, total):\n",
    "    for i in range(start,end+1):\n",
    "        with total.get_lock():\n",
    "            total.value+= i\n",
    "            \n",
    "if __name__ =='__main__':\n",
    "    total = Value('i', 0)\n",
    "    \n",
    "    p1 = Process(target=compute_sum, args=(1, 250, total))\n",
    "    p2 = Process(target=compute_sum, args=(251, 500, total))\n",
    "    p3 = Process(target=compute_sum, args=(501, 750, total))\n",
    "    p4 = Process(target=compute_sum, args=(751, 1000, total))\n",
    "    \n",
    "    p1.start()\n",
    "    p2.start()\n",
    "    p3.start()\n",
    "    p4.start()\n",
    "    \n",
    "    p1.join()\n",
    "    p2.join()\n",
    "    p3.join()\n",
    "    p4.join()\n",
    "    \n",
    "    print('Total:', total.value)"
   ]
  },
  {
   "cell_type": "markdown",
   "id": "7ca1d4ae-5f39-42a0-998f-791cd6630126",
   "metadata": {},
   "source": [
    "73.Write a Python program that creates two processes and communicates between them using a Queue. The first process should send a list of numbers to the second process, which should calculate the sum of the numbers and send it back to the first process."
   ]
  },
  {
   "cell_type": "code",
   "execution_count": 21,
   "id": "c49aeeaa-eb68-43f2-9aa6-e5e4c9090973",
   "metadata": {},
   "outputs": [
    {
     "name": "stdout",
     "output_type": "stream",
     "text": [
      "2023-09-25-17:53:16\n",
      "The sum of the numbers [1, 2, 3, 4, 5] is 15.\n",
      "2023-09-25-17:53:21\n",
      "2023-09-25-17:53:26\n",
      "2023-09-25-17:53:31\n",
      "2023-09-25-17:53:36\n",
      "2023-09-25-17:53:41\n",
      "2023-09-25-17:53:46\n",
      "2023-09-25-17:53:51\n",
      "2023-09-25-17:53:56\n",
      "2023-09-25-17:54:01\n",
      "2023-09-25-17:54:06\n",
      "2023-09-25-17:54:11\n",
      "2023-09-25-17:54:16\n",
      "2023-09-25-17:54:21\n",
      "2023-09-25-17:54:26\n",
      "2023-09-25-17:54:31\n",
      "2023-09-25-17:54:36\n",
      "2023-09-25-17:54:41\n",
      "2023-09-25-17:54:46\n",
      "2023-09-25-17:54:51\n",
      "2023-09-25-17:54:56\n",
      "2023-09-25-17:55:01\n",
      "2023-09-25-17:55:06\n",
      "2023-09-25-17:55:11\n",
      "2023-09-25-17:55:16\n",
      "2023-09-25-17:55:21\n",
      "2023-09-25-17:55:26\n",
      "2023-09-25-17:55:31\n",
      "2023-09-25-17:55:36\n",
      "2023-09-25-17:55:41\n",
      "2023-09-25-17:55:46\n",
      "2023-09-25-17:55:51\n",
      "2023-09-25-17:55:56\n",
      "2023-09-25-17:56:01\n",
      "2023-09-25-17:56:06\n",
      "2023-09-25-17:56:11\n",
      "2023-09-25-17:56:16\n",
      "2023-09-25-17:56:21\n",
      "2023-09-25-17:56:26\n",
      "2023-09-25-17:56:31\n",
      "2023-09-25-17:56:36\n",
      "2023-09-25-17:56:41\n",
      "2023-09-25-17:56:46\n",
      "2023-09-25-17:56:51\n",
      "2023-09-25-17:56:56\n",
      "2023-09-25-17:57:01\n",
      "2023-09-25-17:57:06\n",
      "2023-09-25-17:57:11\n",
      "2023-09-25-17:57:16\n",
      "2023-09-25-17:57:21\n",
      "2023-09-25-17:57:26\n",
      "2023-09-25-17:57:31\n"
     ]
    }
   ],
   "source": [
    "from multiprocessing import Process, Queue\n",
    "\n",
    "def calculate_sum(numbers, q):\n",
    "    \"\"\"\n",
    "    This function takes a list of numbers and calculates the sum of them.\n",
    "    The result is put into a queue to be returned to the main process.\n",
    "    \"\"\"\n",
    "    result = sum(numbers)\n",
    "    q.put(result)\n",
    "\n",
    "if __name__ == '__main__':\n",
    "    # Define the list of numbers to be summed\n",
    "    numbers = [1, 2, 3, 4, 5]\n",
    "\n",
    "    # Create a queue to communicate between processes\n",
    "    q = Queue()\n",
    "\n",
    "    # Create a process to calculate the sum of the numbers\n",
    "    p = Process(target=calculate_sum, args=(numbers, q))\n",
    "    p.start()\n",
    "\n",
    "    # Wait for the result to be put in the queue and retrieve it\n",
    "    result = q.get()\n",
    "\n",
    "    # Print the result\n",
    "\n",
    "    print(f\"The sum of the numbers {numbers} is {result}.\")"
   ]
  },
  {
   "cell_type": "markdown",
   "id": "ab10c0c0-373e-4d24-a51a-d3616f82a83d",
   "metadata": {},
   "source": [
    "74.Write a program to find the maximum number in a list of lists using multiprocessing."
   ]
  },
  {
   "cell_type": "code",
   "execution_count": 22,
   "id": "c0e1e591-4b5a-4b86-852b-f08704822ab9",
   "metadata": {},
   "outputs": [
    {
     "name": "stdout",
     "output_type": "stream",
     "text": [
      "9\n",
      "2023-09-25-17:57:36\n",
      "2023-09-25-17:57:41\n",
      "2023-09-25-17:57:46\n",
      "2023-09-25-17:57:51\n",
      "2023-09-25-17:57:56\n",
      "2023-09-25-17:58:01\n",
      "2023-09-25-17:58:06\n",
      "2023-09-25-17:58:11\n",
      "2023-09-25-17:58:16\n",
      "2023-09-25-17:58:21\n",
      "2023-09-25-17:58:26\n",
      "2023-09-25-17:58:31\n",
      "2023-09-25-17:58:36\n",
      "2023-09-25-17:58:41\n",
      "2023-09-25-17:58:46\n",
      "2023-09-25-17:58:51\n",
      "2023-09-25-17:58:56\n",
      "2023-09-25-17:59:01\n",
      "2023-09-25-17:59:06\n",
      "2023-09-25-17:59:11\n",
      "2023-09-25-17:59:16\n",
      "2023-09-25-17:59:21\n",
      "2023-09-25-17:59:26\n",
      "2023-09-25-17:59:31\n",
      "2023-09-25-17:59:36\n",
      "2023-09-25-17:59:41\n",
      "2023-09-25-17:59:46\n",
      "2023-09-25-17:59:51\n",
      "2023-09-25-17:59:56\n",
      "2023-09-25-18:00:01\n",
      "2023-09-25-18:00:06\n",
      "2023-09-25-18:00:11\n",
      "2023-09-25-18:00:16\n",
      "2023-09-25-18:00:21\n",
      "2023-09-25-18:00:26\n",
      "2023-09-25-18:00:31\n",
      "2023-09-25-18:00:36\n",
      "2023-09-25-18:00:41\n",
      "2023-09-25-18:00:46\n",
      "2023-09-25-18:00:51\n",
      "2023-09-25-18:00:56\n",
      "2023-09-25-18:01:01\n",
      "2023-09-25-18:01:06\n",
      "2023-09-25-18:01:11\n"
     ]
    }
   ],
   "source": [
    "import multiprocessing\n",
    "\n",
    "def find_max(nums):\n",
    "    return max(nums)\n",
    "\n",
    "if __name__ == '__main__':\n",
    "    nums = [[1, 2, 3], [4, 5, 6], [7, 8, 9]]\n",
    "    with multiprocessing.Pool(processes=3) as pool:\n",
    "        result = pool.map(find_max, nums)\n",
    "    print(max(result))"
   ]
  },
  {
   "cell_type": "markdown",
   "id": "efb99e55-5038-48db-b5b7-1cace126d5e9",
   "metadata": {},
   "source": [
    "75.Write a Python program that uses the Pool class from the multiprocessing\n",
    "\n",
    "*List item\n",
    "*List item\n",
    "module to calculate the squares of a list of integers."
   ]
  },
  {
   "cell_type": "code",
   "execution_count": 25,
   "id": "ee6ba952-7497-4301-a0f5-bafa748cff94",
   "metadata": {},
   "outputs": [
    {
     "name": "stdout",
     "output_type": "stream",
     "text": [
      "[1, 4, 9, 16, 25]\n"
     ]
    }
   ],
   "source": [
    "import multiprocessing\n",
    "def square(x):\n",
    "    return x ** 2\n",
    "if __name__ =='__main__':\n",
    "    with multiprocessing.Pool(processes=4) as pool:\n",
    "        numbers = [1, 2, 3, 4, 5]\n",
    "        result = pool.map(square, numbers)\n",
    "        print(result)"
   ]
  },
  {
   "cell_type": "markdown",
   "id": "733653fc-7b15-45d2-88ef-5b6ae1e454a5",
   "metadata": {},
   "source": [
    "76.How do you create a new process using the multiprocessing module in Python?"
   ]
  },
  {
   "cell_type": "code",
   "execution_count": null,
   "id": "0d947f78-2ff9-4914-ae8d-66e36f1afe8c",
   "metadata": {},
   "outputs": [],
   "source": [
    "import multiprocessing\n",
    "\n",
    "def my_function():\n",
    "    print(\"This is a child process.\")\n",
    "    \n",
    "while True:\n",
    "    if input() == 'q':\n",
    "        break"
   ]
  }
 ],
 "metadata": {
  "kernelspec": {
   "display_name": "Python 3 (ipykernel)",
   "language": "python",
   "name": "python3"
  },
  "language_info": {
   "codemirror_mode": {
    "name": "ipython",
    "version": 3
   },
   "file_extension": ".py",
   "mimetype": "text/x-python",
   "name": "python",
   "nbconvert_exporter": "python",
   "pygments_lexer": "ipython3",
   "version": "3.10.8"
  }
 },
 "nbformat": 4,
 "nbformat_minor": 5
}
